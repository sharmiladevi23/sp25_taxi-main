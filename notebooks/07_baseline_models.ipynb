{
 "cells": [
  {
   "cell_type": "code",
   "execution_count": 54,
   "id": "5e7fd51d-f4fc-4583-94ae-2bfd9388224c",
   "metadata": {},
   "outputs": [
    {
     "name": "stdout",
     "output_type": "stream",
     "text": [
      "The autoreload extension is already loaded. To reload it, use:\n",
      "  %reload_ext autoreload\n"
     ]
    }
   ],
   "source": [
    "%load_ext autoreload\n",
    "%autoreload 2"
   ]
  },
  {
   "cell_type": "code",
   "execution_count": 55,
   "id": "ca4e773b-3fdb-4db2-a8b3-fcf09bd54f2f",
   "metadata": {},
   "outputs": [],
   "source": [
    "import sys\n",
    "import os\n",
    "\n",
    "# Add the parent directory to the Python path\n",
    "sys.path.append(os.path.abspath(os.path.join(os.getcwd(), \"..\")))"
   ]
  },
  {
   "cell_type": "code",
   "execution_count": 56,
   "id": "9b160f27-7330-42ef-abdf-a65053027038",
   "metadata": {},
   "outputs": [
    {
     "data": {
      "text/html": [
       "<div>\n",
       "<style scoped>\n",
       "    .dataframe tbody tr th:only-of-type {\n",
       "        vertical-align: middle;\n",
       "    }\n",
       "\n",
       "    .dataframe tbody tr th {\n",
       "        vertical-align: top;\n",
       "    }\n",
       "\n",
       "    .dataframe thead th {\n",
       "        text-align: right;\n",
       "    }\n",
       "</style>\n",
       "<table border=\"1\" class=\"dataframe\">\n",
       "  <thead>\n",
       "    <tr style=\"text-align: right;\">\n",
       "      <th></th>\n",
       "      <th>rides_t-672</th>\n",
       "      <th>rides_t-671</th>\n",
       "      <th>rides_t-670</th>\n",
       "      <th>rides_t-669</th>\n",
       "      <th>rides_t-668</th>\n",
       "      <th>rides_t-667</th>\n",
       "      <th>rides_t-666</th>\n",
       "      <th>rides_t-665</th>\n",
       "      <th>rides_t-664</th>\n",
       "      <th>rides_t-663</th>\n",
       "      <th>...</th>\n",
       "      <th>rides_t-2</th>\n",
       "      <th>rides_t-1</th>\n",
       "      <th>pickup_hour</th>\n",
       "      <th>pickup_location_id</th>\n",
       "      <th>pickup_location_name</th>\n",
       "      <th>fft_1</th>\n",
       "      <th>fft_2</th>\n",
       "      <th>fft_3</th>\n",
       "      <th>fft_4</th>\n",
       "      <th>target</th>\n",
       "    </tr>\n",
       "  </thead>\n",
       "  <tbody>\n",
       "    <tr>\n",
       "      <th>0</th>\n",
       "      <td>0</td>\n",
       "      <td>0</td>\n",
       "      <td>0</td>\n",
       "      <td>0</td>\n",
       "      <td>0</td>\n",
       "      <td>0</td>\n",
       "      <td>0</td>\n",
       "      <td>0</td>\n",
       "      <td>0</td>\n",
       "      <td>0</td>\n",
       "      <td>...</td>\n",
       "      <td>0</td>\n",
       "      <td>0</td>\n",
       "      <td>2023-01-29 05:00:00</td>\n",
       "      <td>2</td>\n",
       "      <td>Location 1</td>\n",
       "      <td>0.0</td>\n",
       "      <td>0.000000</td>\n",
       "      <td>0.0</td>\n",
       "      <td>0.000000</td>\n",
       "      <td>0</td>\n",
       "    </tr>\n",
       "    <tr>\n",
       "      <th>1</th>\n",
       "      <td>0</td>\n",
       "      <td>0</td>\n",
       "      <td>0</td>\n",
       "      <td>0</td>\n",
       "      <td>0</td>\n",
       "      <td>0</td>\n",
       "      <td>0</td>\n",
       "      <td>0</td>\n",
       "      <td>0</td>\n",
       "      <td>0</td>\n",
       "      <td>...</td>\n",
       "      <td>0</td>\n",
       "      <td>0</td>\n",
       "      <td>2023-01-30 05:00:00</td>\n",
       "      <td>2</td>\n",
       "      <td>Location 1</td>\n",
       "      <td>0.0</td>\n",
       "      <td>0.000000</td>\n",
       "      <td>0.0</td>\n",
       "      <td>0.000000</td>\n",
       "      <td>0</td>\n",
       "    </tr>\n",
       "    <tr>\n",
       "      <th>2</th>\n",
       "      <td>0</td>\n",
       "      <td>0</td>\n",
       "      <td>0</td>\n",
       "      <td>0</td>\n",
       "      <td>0</td>\n",
       "      <td>0</td>\n",
       "      <td>0</td>\n",
       "      <td>0</td>\n",
       "      <td>0</td>\n",
       "      <td>0</td>\n",
       "      <td>...</td>\n",
       "      <td>0</td>\n",
       "      <td>0</td>\n",
       "      <td>2023-01-31 05:00:00</td>\n",
       "      <td>2</td>\n",
       "      <td>Location 1</td>\n",
       "      <td>0.0</td>\n",
       "      <td>0.000000</td>\n",
       "      <td>0.0</td>\n",
       "      <td>0.000000</td>\n",
       "      <td>0</td>\n",
       "    </tr>\n",
       "    <tr>\n",
       "      <th>3</th>\n",
       "      <td>0</td>\n",
       "      <td>0</td>\n",
       "      <td>0</td>\n",
       "      <td>0</td>\n",
       "      <td>0</td>\n",
       "      <td>0</td>\n",
       "      <td>0</td>\n",
       "      <td>0</td>\n",
       "      <td>0</td>\n",
       "      <td>0</td>\n",
       "      <td>...</td>\n",
       "      <td>0</td>\n",
       "      <td>0</td>\n",
       "      <td>2023-02-01 05:00:00</td>\n",
       "      <td>2</td>\n",
       "      <td>Location 1</td>\n",
       "      <td>0.0</td>\n",
       "      <td>0.000000</td>\n",
       "      <td>0.0</td>\n",
       "      <td>0.000000</td>\n",
       "      <td>0</td>\n",
       "    </tr>\n",
       "    <tr>\n",
       "      <th>4</th>\n",
       "      <td>0</td>\n",
       "      <td>0</td>\n",
       "      <td>0</td>\n",
       "      <td>0</td>\n",
       "      <td>0</td>\n",
       "      <td>0</td>\n",
       "      <td>0</td>\n",
       "      <td>0</td>\n",
       "      <td>0</td>\n",
       "      <td>0</td>\n",
       "      <td>...</td>\n",
       "      <td>0</td>\n",
       "      <td>0</td>\n",
       "      <td>2023-02-02 05:00:00</td>\n",
       "      <td>2</td>\n",
       "      <td>Location 1</td>\n",
       "      <td>0.0</td>\n",
       "      <td>0.000000</td>\n",
       "      <td>0.0</td>\n",
       "      <td>0.000000</td>\n",
       "      <td>0</td>\n",
       "    </tr>\n",
       "    <tr>\n",
       "      <th>...</th>\n",
       "      <td>...</td>\n",
       "      <td>...</td>\n",
       "      <td>...</td>\n",
       "      <td>...</td>\n",
       "      <td>...</td>\n",
       "      <td>...</td>\n",
       "      <td>...</td>\n",
       "      <td>...</td>\n",
       "      <td>...</td>\n",
       "      <td>...</td>\n",
       "      <td>...</td>\n",
       "      <td>...</td>\n",
       "      <td>...</td>\n",
       "      <td>...</td>\n",
       "      <td>...</td>\n",
       "      <td>...</td>\n",
       "      <td>...</td>\n",
       "      <td>...</td>\n",
       "      <td>...</td>\n",
       "      <td>...</td>\n",
       "      <td>...</td>\n",
       "    </tr>\n",
       "    <tr>\n",
       "      <th>87615</th>\n",
       "      <td>25</td>\n",
       "      <td>14</td>\n",
       "      <td>5</td>\n",
       "      <td>3</td>\n",
       "      <td>7</td>\n",
       "      <td>16</td>\n",
       "      <td>53</td>\n",
       "      <td>133</td>\n",
       "      <td>126</td>\n",
       "      <td>136</td>\n",
       "      <td>...</td>\n",
       "      <td>42</td>\n",
       "      <td>37</td>\n",
       "      <td>2023-12-27 05:00:00</td>\n",
       "      <td>263</td>\n",
       "      <td>Other</td>\n",
       "      <td>177.0</td>\n",
       "      <td>13.601471</td>\n",
       "      <td>7.0</td>\n",
       "      <td>13.601471</td>\n",
       "      <td>12</td>\n",
       "    </tr>\n",
       "    <tr>\n",
       "      <th>87616</th>\n",
       "      <td>30</td>\n",
       "      <td>7</td>\n",
       "      <td>9</td>\n",
       "      <td>6</td>\n",
       "      <td>5</td>\n",
       "      <td>23</td>\n",
       "      <td>58</td>\n",
       "      <td>123</td>\n",
       "      <td>136</td>\n",
       "      <td>108</td>\n",
       "      <td>...</td>\n",
       "      <td>75</td>\n",
       "      <td>35</td>\n",
       "      <td>2023-12-28 05:00:00</td>\n",
       "      <td>263</td>\n",
       "      <td>Other</td>\n",
       "      <td>253.0</td>\n",
       "      <td>37.215588</td>\n",
       "      <td>39.0</td>\n",
       "      <td>37.215588</td>\n",
       "      <td>19</td>\n",
       "    </tr>\n",
       "    <tr>\n",
       "      <th>87617</th>\n",
       "      <td>50</td>\n",
       "      <td>26</td>\n",
       "      <td>17</td>\n",
       "      <td>9</td>\n",
       "      <td>8</td>\n",
       "      <td>11</td>\n",
       "      <td>43</td>\n",
       "      <td>116</td>\n",
       "      <td>137</td>\n",
       "      <td>132</td>\n",
       "      <td>...</td>\n",
       "      <td>62</td>\n",
       "      <td>37</td>\n",
       "      <td>2023-12-29 05:00:00</td>\n",
       "      <td>263</td>\n",
       "      <td>Other</td>\n",
       "      <td>247.0</td>\n",
       "      <td>34.713110</td>\n",
       "      <td>47.0</td>\n",
       "      <td>34.713110</td>\n",
       "      <td>38</td>\n",
       "    </tr>\n",
       "    <tr>\n",
       "      <th>87618</th>\n",
       "      <td>117</td>\n",
       "      <td>88</td>\n",
       "      <td>39</td>\n",
       "      <td>19</td>\n",
       "      <td>14</td>\n",
       "      <td>12</td>\n",
       "      <td>27</td>\n",
       "      <td>37</td>\n",
       "      <td>70</td>\n",
       "      <td>97</td>\n",
       "      <td>...</td>\n",
       "      <td>77</td>\n",
       "      <td>69</td>\n",
       "      <td>2023-12-30 05:00:00</td>\n",
       "      <td>263</td>\n",
       "      <td>Other</td>\n",
       "      <td>332.0</td>\n",
       "      <td>28.319605</td>\n",
       "      <td>18.0</td>\n",
       "      <td>28.319605</td>\n",
       "      <td>59</td>\n",
       "    </tr>\n",
       "    <tr>\n",
       "      <th>87619</th>\n",
       "      <td>120</td>\n",
       "      <td>82</td>\n",
       "      <td>61</td>\n",
       "      <td>41</td>\n",
       "      <td>13</td>\n",
       "      <td>12</td>\n",
       "      <td>26</td>\n",
       "      <td>37</td>\n",
       "      <td>45</td>\n",
       "      <td>99</td>\n",
       "      <td>...</td>\n",
       "      <td>71</td>\n",
       "      <td>61</td>\n",
       "      <td>2023-12-31 05:00:00</td>\n",
       "      <td>263</td>\n",
       "      <td>Other</td>\n",
       "      <td>276.0</td>\n",
       "      <td>15.297059</td>\n",
       "      <td>2.0</td>\n",
       "      <td>15.297059</td>\n",
       "      <td>65</td>\n",
       "    </tr>\n",
       "  </tbody>\n",
       "</table>\n",
       "<p>87620 rows × 680 columns</p>\n",
       "</div>"
      ],
      "text/plain": [
       "       rides_t-672  rides_t-671  rides_t-670  rides_t-669  rides_t-668  \\\n",
       "0                0            0            0            0            0   \n",
       "1                0            0            0            0            0   \n",
       "2                0            0            0            0            0   \n",
       "3                0            0            0            0            0   \n",
       "4                0            0            0            0            0   \n",
       "...            ...          ...          ...          ...          ...   \n",
       "87615           25           14            5            3            7   \n",
       "87616           30            7            9            6            5   \n",
       "87617           50           26           17            9            8   \n",
       "87618          117           88           39           19           14   \n",
       "87619          120           82           61           41           13   \n",
       "\n",
       "       rides_t-667  rides_t-666  rides_t-665  rides_t-664  rides_t-663  ...  \\\n",
       "0                0            0            0            0            0  ...   \n",
       "1                0            0            0            0            0  ...   \n",
       "2                0            0            0            0            0  ...   \n",
       "3                0            0            0            0            0  ...   \n",
       "4                0            0            0            0            0  ...   \n",
       "...            ...          ...          ...          ...          ...  ...   \n",
       "87615           16           53          133          126          136  ...   \n",
       "87616           23           58          123          136          108  ...   \n",
       "87617           11           43          116          137          132  ...   \n",
       "87618           12           27           37           70           97  ...   \n",
       "87619           12           26           37           45           99  ...   \n",
       "\n",
       "       rides_t-2  rides_t-1         pickup_hour  pickup_location_id  \\\n",
       "0              0          0 2023-01-29 05:00:00                   2   \n",
       "1              0          0 2023-01-30 05:00:00                   2   \n",
       "2              0          0 2023-01-31 05:00:00                   2   \n",
       "3              0          0 2023-02-01 05:00:00                   2   \n",
       "4              0          0 2023-02-02 05:00:00                   2   \n",
       "...          ...        ...                 ...                 ...   \n",
       "87615         42         37 2023-12-27 05:00:00                 263   \n",
       "87616         75         35 2023-12-28 05:00:00                 263   \n",
       "87617         62         37 2023-12-29 05:00:00                 263   \n",
       "87618         77         69 2023-12-30 05:00:00                 263   \n",
       "87619         71         61 2023-12-31 05:00:00                 263   \n",
       "\n",
       "       pickup_location_name  fft_1      fft_2  fft_3      fft_4  target  \n",
       "0                Location 1    0.0   0.000000    0.0   0.000000       0  \n",
       "1                Location 1    0.0   0.000000    0.0   0.000000       0  \n",
       "2                Location 1    0.0   0.000000    0.0   0.000000       0  \n",
       "3                Location 1    0.0   0.000000    0.0   0.000000       0  \n",
       "4                Location 1    0.0   0.000000    0.0   0.000000       0  \n",
       "...                     ...    ...        ...    ...        ...     ...  \n",
       "87615                 Other  177.0  13.601471    7.0  13.601471      12  \n",
       "87616                 Other  253.0  37.215588   39.0  37.215588      19  \n",
       "87617                 Other  247.0  34.713110   47.0  34.713110      38  \n",
       "87618                 Other  332.0  28.319605   18.0  28.319605      59  \n",
       "87619                 Other  276.0  15.297059    2.0  15.297059      65  \n",
       "\n",
       "[87620 rows x 680 columns]"
      ]
     },
     "execution_count": 56,
     "metadata": {},
     "output_type": "execute_result"
    }
   ],
   "source": [
    "import pandas as pd\n",
    "from src.config import TRANSFORMED_DATA_DIR\n",
    "\n",
    "df = pd.read_parquet(TRANSFORMED_DATA_DIR / \"tabular_data.parquet\")\n",
    "df"
   ]
  },
  {
   "cell_type": "code",
   "execution_count": 57,
   "id": "767af5b4",
   "metadata": {},
   "outputs": [],
   "source": [
    "from datetime import datetime\n",
    "import pytz\n",
    "cutoff_date = datetime(2023, 9, 1, 0, 0, 0).astimezone(pytz.timezone(\"America/New_York\"))\n"
   ]
  },
  {
   "cell_type": "code",
   "execution_count": 58,
   "id": "375ff8cf-b58e-4e8c-8d91-80b325d5cf31",
   "metadata": {},
   "outputs": [
    {
     "name": "stdout",
     "output_type": "stream",
     "text": [
      "(55900, 679)\n",
      "(55900,)\n",
      "(31720, 679)\n",
      "(31720,)\n"
     ]
    }
   ],
   "source": [
    "from datetime import datetime\n",
    "\n",
    "from src.data_utils import split_time_series_data\n",
    "\n",
    "X_train, y_train, X_test, y_test = split_time_series_data(\n",
    "    df,\n",
    "    cutoff_date=datetime(2023, 9, 1, 0, 0, 0),\n",
    "    target_column=\"target\"\n",
    ")\n",
    "\n",
    "print(X_train.shape)\n",
    "print(y_train.shape)\n",
    "print(X_test.shape)\n",
    "print(y_test.shape)"
   ]
  },
  {
   "cell_type": "code",
   "execution_count": 59,
   "id": "2ae6c99b",
   "metadata": {},
   "outputs": [
    {
     "data": {
      "text/plain": [
       "'from datetime import datetime\\nimport pytz\\nimport pandas as pd\\nfrom src.data_utils import split_time_series_data\\n\\n# ✅ Step 1: Ensure `cutoff_date` is timezone-aware and correctly formatted\\ncutoff_date = pd.Timestamp(\"2023-09-01 00:00:00\", tz=\"America/New_York\")\\n\\n# ✅ Step 2: Debugging - Print dataset time range\\nprint(\"Dataset Time Range:\")\\nprint(\"Min:\", df[\"pickup_hour\"].min(), \"| Max:\", df[\"pickup_hour\"].max())\\n\\n# ✅ Step 3: Debugging - Check row distribution before & after cutoff\\nrows_before = df[df[\"pickup_hour\"] < cutoff_date].shape[0]\\nrows_after = df[df[\"pickup_hour\"] >= cutoff_date].shape[0]\\nprint(f\"Rows before cutoff: {rows_before} | Rows after cutoff: {rows_after}\")\\n\\n# ✅ Step 4: Perform Time Series Split\\nX_train, y_train, X_test, y_test = split_time_series_data(\\n    df, cutoff_date=cutoff_date, target_column=\"target\"\\n)\\n\\n# ✅ Step 5: Debugging - Print final shapes\\nprint(\"\\nFinal Data Split Sizes:\")\\nprint(f\"X_train: {X_train.shape}, y_train: {y_train.shape}\")\\nprint(f\"X_test: {X_test.shape}, y_test: {y_test.shape}\")\\n\\n# ✅ Step 6: Verify first few rows of test data to confirm split\\nprint(\"\\nFirst few rows after cutoff:\")\\nprint(df[df[\"pickup_hour\"] >= cutoff_date].head())\\n'"
      ]
     },
     "execution_count": 59,
     "metadata": {},
     "output_type": "execute_result"
    }
   ],
   "source": [
    "\"\"\"from datetime import datetime\n",
    "import pytz\n",
    "import pandas as pd\n",
    "from src.data_utils import split_time_series_data\n",
    "\n",
    "# ✅ Step 1: Ensure `cutoff_date` is timezone-aware and correctly formatted\n",
    "cutoff_date = pd.Timestamp(\"2023-09-01 00:00:00\", tz=\"America/New_York\")\n",
    "\n",
    "# ✅ Step 2: Debugging - Print dataset time range\n",
    "print(\"Dataset Time Range:\")\n",
    "print(\"Min:\", df[\"pickup_hour\"].min(), \"| Max:\", df[\"pickup_hour\"].max())\n",
    "\n",
    "# ✅ Step 3: Debugging - Check row distribution before & after cutoff\n",
    "rows_before = df[df[\"pickup_hour\"] < cutoff_date].shape[0]\n",
    "rows_after = df[df[\"pickup_hour\"] >= cutoff_date].shape[0]\n",
    "print(f\"Rows before cutoff: {rows_before} | Rows after cutoff: {rows_after}\")\n",
    "\n",
    "# ✅ Step 4: Perform Time Series Split\n",
    "X_train, y_train, X_test, y_test = split_time_series_data(\n",
    "    df, cutoff_date=cutoff_date, target_column=\"target\"\n",
    ")\n",
    "\n",
    "# ✅ Step 5: Debugging - Print final shapes\n",
    "print(\"\\nFinal Data Split Sizes:\")\n",
    "print(f\"X_train: {X_train.shape}, y_train: {y_train.shape}\")\n",
    "print(f\"X_test: {X_test.shape}, y_test: {y_test.shape}\")\n",
    "\n",
    "# ✅ Step 6: Verify first few rows of test data to confirm split\n",
    "print(\"\\nFirst few rows after cutoff:\")\n",
    "print(df[df[\"pickup_hour\"] >= cutoff_date].head())\n",
    "\"\"\"\n"
   ]
  },
  {
   "cell_type": "code",
   "execution_count": 60,
   "id": "607bfb35-84cf-4410-a4ac-5075d1d4a8f1",
   "metadata": {},
   "outputs": [],
   "source": [
    "import numpy as np\n",
    "\n",
    "class BaselineModelPreviousHour:\n",
    "\n",
    "    def fit(self, X_train: pd.DataFrame, y_train: pd.Series):\n",
    "        pass\n",
    "\n",
    "    def predict(self, X_test: pd.DataFrame) -> np.array:\n",
    "        return 0.5 * X_test[\"rides_t-1\"] + 0.3 * X_test[\"rides_t-2\"] + 0.2 * X_test[\"rides_t-3\"]\n"
   ]
  },
  {
   "cell_type": "code",
   "execution_count": 61,
   "id": "6bd315ce-2039-4ebf-9c1d-d56003bf3db2",
   "metadata": {},
   "outputs": [],
   "source": [
    "model = BaselineModelPreviousHour()\n",
    "predictions = model.predict(X_test)"
   ]
  },
  {
   "cell_type": "code",
   "execution_count": 62,
   "id": "23ab1392-4ba7-48a9-88d7-c882bf500222",
   "metadata": {},
   "outputs": [
    {
     "name": "stdout",
     "output_type": "stream",
     "text": [
      "9.2922\n"
     ]
    }
   ],
   "source": [
    "\n",
    "from sklearn.metrics import mean_absolute_error\n",
    "\n",
    "test_mae = mean_absolute_error(y_test, predictions)\n",
    "print(f\"{test_mae:.4f}\")"
   ]
  },
  {
   "cell_type": "code",
   "execution_count": 63,
   "id": "3931a9a0",
   "metadata": {},
   "outputs": [
    {
     "data": {
      "text/plain": [
       "'\\nimport numpy as np\\nimport pandas as pd\\nimport pytz\\nfrom datetime import datetime\\nfrom sklearn.ensemble import RandomForestRegressor\\nfrom sklearn.metrics import mean_absolute_error\\n\\n# ✅ Step 1: Ensure `cutoff_date` is timezone-aware\\ncutoff_date = pd.Timestamp(\"2023-09-01 00:00:00\", tz=\"America/New_York\")\\n\\n# ✅ Step 2: Print dataset time range\\nprint(\"Dataset Time Range:\")\\nprint(\"Min:\", df[\"pickup_hour\"].min(), \"| Max:\", df[\"pickup_hour\"].max())\\n\\n# ✅ Step 3: Print rows before & after cutoff\\nrows_before = df[df[\"pickup_hour\"] < cutoff_date].shape[0]\\nrows_after = df[df[\"pickup_hour\"] >= cutoff_date].shape[0]\\nprint(f\"Rows before cutoff: {rows_before} | Rows after cutoff: {rows_after}\")\\n\\n# ✅ Step 4: Train-test split\\nfrom src.data_utils import split_time_series_data\\nX_train, y_train, X_test, y_test = split_time_series_data(df, cutoff_date=cutoff_date, target_column=\"target\")\\n\\n# ✅ Step 5: Feature Engineering - Extract time-based features\\nfor data in [X_train, X_test]:\\n    data[\"hour\"] = data[\"pickup_hour\"].dt.hour  # Hour of the day\\n    data[\"day_of_week\"] = data[\"pickup_hour\"].dt.weekday  # Monday=0, Sunday=6\\n    data[\"rolling_avg\"] = data[\"rides_t-1\"].rolling(7, min_periods=1).mean()  # 7-day rolling avg\\n    data[\"is_dst\"] = data[\"pickup_hour\"].dt.month.isin([3, 11]).astype(int)  # Flag for Daylight Saving Time (DST)\\n\\n# ✅ Step 6: Select Features (Adding FFT Features)\\nfeatures = [\"rides_t-1\", \"rides_t-2\", \"hour\", \"day_of_week\", \"rolling_avg\", \"is_dst\", \"fft_1\", \"fft_2\", \"fft_3\", \"fft_4\"]\\n\\n# ✅ Step 7: Train a Random Forest Model\\nmodel = RandomForestRegressor(n_estimators=100, random_state=42)\\nmodel.fit(X_train[features], y_train)\\n\\n# ✅ Step 8: Make Predictions\\npredictions = model.predict(X_test[features])\\n\\n# ✅ Step 9: Evaluate Model Performance\\ntest_mae = mean_absolute_error(y_test, predictions)\\nprint(f\"\\n📌 Optimized Test MAE: {test_mae:.4f}\")\\n\\n# ✅ Step 10: Debug Errors Around Timezone Shifts (March & November)\\nX_test[\"error\"] = abs(y_test - predictions)\\ndst_errors = X_test.loc[X_test[\"pickup_hour\"].dt.month.isin([3, 11])]\\nprint(\"\\n🔍 Errors Around Daylight Saving Time (DST) Transitions:\")\\nprint(dst_errors[[\"pickup_hour\", \"error\"]].head())\\n'"
      ]
     },
     "execution_count": 63,
     "metadata": {},
     "output_type": "execute_result"
    }
   ],
   "source": [
    "\"\"\"\n",
    "import numpy as np\n",
    "import pandas as pd\n",
    "import pytz\n",
    "from datetime import datetime\n",
    "from sklearn.ensemble import RandomForestRegressor\n",
    "from sklearn.metrics import mean_absolute_error\n",
    "\n",
    "# ✅ Step 1: Ensure `cutoff_date` is timezone-aware\n",
    "cutoff_date = pd.Timestamp(\"2023-09-01 00:00:00\", tz=\"America/New_York\")\n",
    "\n",
    "# ✅ Step 2: Print dataset time range\n",
    "print(\"Dataset Time Range:\")\n",
    "print(\"Min:\", df[\"pickup_hour\"].min(), \"| Max:\", df[\"pickup_hour\"].max())\n",
    "\n",
    "# ✅ Step 3: Print rows before & after cutoff\n",
    "rows_before = df[df[\"pickup_hour\"] < cutoff_date].shape[0]\n",
    "rows_after = df[df[\"pickup_hour\"] >= cutoff_date].shape[0]\n",
    "print(f\"Rows before cutoff: {rows_before} | Rows after cutoff: {rows_after}\")\n",
    "\n",
    "# ✅ Step 4: Train-test split\n",
    "from src.data_utils import split_time_series_data\n",
    "X_train, y_train, X_test, y_test = split_time_series_data(df, cutoff_date=cutoff_date, target_column=\"target\")\n",
    "\n",
    "# ✅ Step 5: Feature Engineering - Extract time-based features\n",
    "for data in [X_train, X_test]:\n",
    "    data[\"hour\"] = data[\"pickup_hour\"].dt.hour  # Hour of the day\n",
    "    data[\"day_of_week\"] = data[\"pickup_hour\"].dt.weekday  # Monday=0, Sunday=6\n",
    "    data[\"rolling_avg\"] = data[\"rides_t-1\"].rolling(7, min_periods=1).mean()  # 7-day rolling avg\n",
    "    data[\"is_dst\"] = data[\"pickup_hour\"].dt.month.isin([3, 11]).astype(int)  # Flag for Daylight Saving Time (DST)\n",
    "\n",
    "# ✅ Step 6: Select Features (Adding FFT Features)\n",
    "features = [\"rides_t-1\", \"rides_t-2\", \"hour\", \"day_of_week\", \"rolling_avg\", \"is_dst\", \"fft_1\", \"fft_2\", \"fft_3\", \"fft_4\"]\n",
    "\n",
    "# ✅ Step 7: Train a Random Forest Model\n",
    "model = RandomForestRegressor(n_estimators=100, random_state=42)\n",
    "model.fit(X_train[features], y_train)\n",
    "\n",
    "# ✅ Step 8: Make Predictions\n",
    "predictions = model.predict(X_test[features])\n",
    "\n",
    "# ✅ Step 9: Evaluate Model Performance\n",
    "test_mae = mean_absolute_error(y_test, predictions)\n",
    "print(f\"\\n📌 Optimized Test MAE: {test_mae:.4f}\")\n",
    "\n",
    "# ✅ Step 10: Debug Errors Around Timezone Shifts (March & November)\n",
    "X_test[\"error\"] = abs(y_test - predictions)\n",
    "dst_errors = X_test.loc[X_test[\"pickup_hour\"].dt.month.isin([3, 11])]\n",
    "print(\"\\n🔍 Errors Around Daylight Saving Time (DST) Transitions:\")\n",
    "print(dst_errors[[\"pickup_hour\", \"error\"]].head())\n",
    "\"\"\"\n"
   ]
  },
  {
   "cell_type": "code",
   "execution_count": 64,
   "id": "9b437cfb",
   "metadata": {},
   "outputs": [],
   "source": [
    "import sys\n",
    "import os\n",
    "sys.path.append(os.path.abspath(\"..\"))  \n",
    "from src.experiment_utils import set_mlflow_tracking\n"
   ]
  },
  {
   "cell_type": "code",
   "execution_count": 65,
   "id": "2af51c25",
   "metadata": {},
   "outputs": [
    {
     "name": "stderr",
     "output_type": "stream",
     "text": [
      "INFO:httpx:HTTP Request: GET https://dagshub.com/api/v1/repos/sharmila.23devi/nyc_taxi_proj \"HTTP/1.1 200 OK\"\n"
     ]
    },
    {
     "data": {
      "text/html": [
       "<pre style=\"white-space:pre;overflow-x:auto;line-height:normal;font-family:Menlo,'DejaVu Sans Mono',consolas,'Courier New',monospace\">Initialized MLflow to track repo <span style=\"color: #008000; text-decoration-color: #008000\">\"sharmila.23devi/nyc_taxi_proj\"</span>\n",
       "</pre>\n"
      ],
      "text/plain": [
       "Initialized MLflow to track repo \u001b[32m\"sharmila.23devi/nyc_taxi_proj\"\u001b[0m\n"
      ]
     },
     "metadata": {},
     "output_type": "display_data"
    },
    {
     "name": "stderr",
     "output_type": "stream",
     "text": [
      "INFO:dagshub:Initialized MLflow to track repo \"sharmila.23devi/nyc_taxi_proj\"\n"
     ]
    },
    {
     "data": {
      "text/html": [
       "<pre style=\"white-space:pre;overflow-x:auto;line-height:normal;font-family:Menlo,'DejaVu Sans Mono',consolas,'Courier New',monospace\">Repository sharmila.23devi/nyc_taxi_proj initialized!\n",
       "</pre>\n"
      ],
      "text/plain": [
       "Repository sharmila.23devi/nyc_taxi_proj initialized!\n"
      ]
     },
     "metadata": {},
     "output_type": "display_data"
    },
    {
     "name": "stderr",
     "output_type": "stream",
     "text": [
      "INFO:dagshub:Repository sharmila.23devi/nyc_taxi_proj initialized!\n"
     ]
    },
    {
     "name": "stdout",
     "output_type": "stream",
     "text": [
      "MLflow Tracking URI: https://dagshub.com/sharmila.23devi/nyc_taxi_proj.mlflow\n"
     ]
    }
   ],
   "source": [
    "import mlflow\n",
    "import dagshub\n",
    "dagshub.init(\n",
    "    repo_owner=\"sharmila.23devi\",  \n",
    "    repo_name=\"nyc_taxi_proj\", \n",
    "    mlflow=True  \n",
    ")\n",
    "mlflow.set_tracking_uri(\"https://dagshub.com/sharmila.23devi/nyc_taxi_proj.mlflow\")\n",
    "print(\"MLflow Tracking URI:\", mlflow.get_tracking_uri())\n"
   ]
  },
  {
   "cell_type": "code",
   "execution_count": 66,
   "id": "1cd98cb4-c618-4e4d-8cca-d457edea1698",
   "metadata": {},
   "outputs": [
    {
     "name": "stderr",
     "output_type": "stream",
     "text": [
      "INFO:src.experiment_utils:MLflow tracking URI and credentials set.\n"
     ]
    }
   ],
   "source": [
    "from src.experiment_utils import set_mlflow_tracking, log_model_to_mlflow\n",
    "from dotenv import load_dotenv\n",
    "load_dotenv() \n",
    "\n",
    "mlflow = set_mlflow_tracking()\n"
   ]
  },
  {
   "cell_type": "code",
   "execution_count": 67,
   "id": "d65148a1",
   "metadata": {},
   "outputs": [
    {
     "name": "stderr",
     "output_type": "stream",
     "text": [
      "WARNING:urllib3.connectionpool:Retrying (Retry(total=4, connect=5, read=4, redirect=5, status=5)) after connection broken by 'RemoteDisconnected('Remote end closed connection without response')': /sharmila.23devi/nyc_taxi_proj.mlflow/api/2.0/mlflow/experiments/get-by-name?experiment_name=BaselineModelPreviousHour\n"
     ]
    },
    {
     "name": "stderr",
     "output_type": "stream",
     "text": [
      "INFO:src.experiment_utils:Experiment set to: BaselineModelPreviousHour\n",
      "INFO:src.experiment_utils:Logged mean_absolute_error: 9.29217213114754\n",
      "/opt/anaconda3/lib/python3.12/site-packages/mlflow/types/utils.py:435: UserWarning:\n",
      "\n",
      "Hint: Inferred schema contains integer column(s). Integer columns in Python cannot represent missing values. If your input data contains missing values at inference time, it will be encoded as floats and will cause a schema enforcement error. The best way to avoid this problem is to infer the model schema based on a realistic data sample (training dataset) that includes missing values. Alternatively, you can declare integer columns as doubles (float64) whenever these columns may have missing values. See `Handling Integers With Missing Values <https://www.mlflow.org/docs/latest/models.html#handling-integers-with-missing-values>`_ for more details.\n",
      "\n",
      "INFO:src.experiment_utils:Model signature inferred.\n",
      "Registered model 'BaselineModelPreviousHour' already exists. Creating a new version of this model...\n",
      "2025/03/03 12:17:35 INFO mlflow.store.model_registry.abstract_store: Waiting up to 300 seconds for model version to finish creation. Model name: BaselineModelPreviousHour, version 3\n",
      "Created version '3' of model 'BaselineModelPreviousHour'.\n",
      "INFO:src.experiment_utils:Model logged with name: BaselineModelPreviousHour\n"
     ]
    },
    {
     "name": "stdout",
     "output_type": "stream",
     "text": [
      "🏃 View run debonair-dolphin-136 at: https://dagshub.com/sharmila.23devi/nyc_taxi_proj.mlflow/#/experiments/0/runs/e62c6f7180e445108917f24fd7d292e4\n",
      "🧪 View experiment at: https://dagshub.com/sharmila.23devi/nyc_taxi_proj.mlflow/#/experiments/0\n"
     ]
    },
    {
     "data": {
      "text/plain": [
       "<mlflow.models.model.ModelInfo at 0x3086ca270>"
      ]
     },
     "execution_count": 67,
     "metadata": {},
     "output_type": "execute_result"
    }
   ],
   "source": [
    "log_model_to_mlflow(model, X_test, \"BaselineModelPreviousHour\", \"mean_absolute_error\", score=test_mae)"
   ]
  },
  {
   "cell_type": "code",
   "execution_count": 68,
   "id": "3a514fbb-4ea7-4261-802e-b6d9572ddd76",
   "metadata": {},
   "outputs": [],
   "source": [
    "import numpy as np\n",
    "\n",
    "class BaselineModelPreviousWeek:\n",
    "\n",
    "    def fit(self, X_train: pd.DataFrame, y_train: pd.Series):\n",
    "        pass\n",
    "\n",
    "    def predict(self, X_test: pd.DataFrame) -> np.array:\n",
    "        return X_test[f\"rides_t-{7*24}\"]\n"
   ]
  },
  {
   "cell_type": "code",
   "execution_count": 69,
   "id": "ce2a60d5-75ce-493f-b938-6f4112abf9eb",
   "metadata": {},
   "outputs": [],
   "source": [
    "model = BaselineModelPreviousWeek()\n",
    "predictions = model.predict(X_test)"
   ]
  },
  {
   "cell_type": "code",
   "execution_count": 70,
   "id": "5de6b0c8-a9f9-434c-be3e-d7cdf5a4c8ec",
   "metadata": {},
   "outputs": [
    {
     "name": "stdout",
     "output_type": "stream",
     "text": [
      "4.8624\n"
     ]
    }
   ],
   "source": [
    "test_mae = mean_absolute_error(y_test, predictions)\n",
    "print(f\"{test_mae:.4f}\")"
   ]
  },
  {
   "cell_type": "code",
   "execution_count": 71,
   "id": "db5cf5f3-3be7-4735-8b43-d752599aedc4",
   "metadata": {},
   "outputs": [
    {
     "name": "stderr",
     "output_type": "stream",
     "text": [
      "INFO:src.experiment_utils:Experiment set to: BaselineModelPreviousWeek\n",
      "INFO:src.experiment_utils:Logged mean_absolute_error: 4.862421185372005\n",
      "/opt/anaconda3/lib/python3.12/site-packages/mlflow/types/utils.py:435: UserWarning:\n",
      "\n",
      "Hint: Inferred schema contains integer column(s). Integer columns in Python cannot represent missing values. If your input data contains missing values at inference time, it will be encoded as floats and will cause a schema enforcement error. The best way to avoid this problem is to infer the model schema based on a realistic data sample (training dataset) that includes missing values. Alternatively, you can declare integer columns as doubles (float64) whenever these columns may have missing values. See `Handling Integers With Missing Values <https://www.mlflow.org/docs/latest/models.html#handling-integers-with-missing-values>`_ for more details.\n",
      "\n",
      "INFO:src.experiment_utils:Model signature inferred.\n",
      "Registered model 'BaselineModelPreviousWeek' already exists. Creating a new version of this model...\n",
      "2025/03/03 12:18:13 INFO mlflow.store.model_registry.abstract_store: Waiting up to 300 seconds for model version to finish creation. Model name: BaselineModelPreviousWeek, version 6\n",
      "Created version '6' of model 'BaselineModelPreviousWeek'.\n",
      "INFO:src.experiment_utils:Model logged with name: BaselineModelPreviousWeek\n"
     ]
    },
    {
     "name": "stdout",
     "output_type": "stream",
     "text": [
      "🏃 View run orderly-sponge-576 at: https://dagshub.com/sharmila.23devi/nyc_taxi_proj.mlflow/#/experiments/1/runs/febaf0611d104fd18df97c76964e2b49\n",
      "🧪 View experiment at: https://dagshub.com/sharmila.23devi/nyc_taxi_proj.mlflow/#/experiments/1\n"
     ]
    },
    {
     "data": {
      "text/plain": [
       "<mlflow.models.model.ModelInfo at 0x312c82060>"
      ]
     },
     "execution_count": 71,
     "metadata": {},
     "output_type": "execute_result"
    }
   ],
   "source": [
    "log_model_to_mlflow(model, X_test, \"BaselineModelPreviousWeek\", \"mean_absolute_error\", score=test_mae)\n"
   ]
  },
  {
   "cell_type": "code",
   "execution_count": 72,
   "id": "81cdad64-c6b2-44fc-8cf1-38803199e771",
   "metadata": {},
   "outputs": [],
   "source": [
    "import numpy as np\n",
    "import pandas as pd\n",
    "\n",
    "class BaselineModelLast4Weeks:\n",
    "    \"\"\"\n",
    "    A baseline model that predicts the average of the last 4 weeks (28 days)\n",
    "    for each test instance.\n",
    "    \"\"\"\n",
    "\n",
    "    def fit(self, X_train: pd.DataFrame, y_train: pd.Series):\n",
    "        \"\"\"\n",
    "        The fit method is not used in this baseline model as it does not learn\n",
    "        from the training data.\n",
    "        \"\"\"\n",
    "        pass\n",
    "\n",
    "    def predict(self, X_test: pd.DataFrame) -> np.array:\n",
    "        \"\"\"\n",
    "        Predicts the average of the last 4 weeks (28 days) for each test instance.\n",
    "\n",
    "        Parameters:\n",
    "            X_test (pd.DataFrame): The test DataFrame containing lagged features\n",
    "                                   (e.g., rides_t-{7*24}, rides_t-{14*24}, etc.).\n",
    "\n",
    "        Returns:\n",
    "            np.array: An array of predictions based on the average of the last 4 weeks.\n",
    "        \"\"\"\n",
    "        # Define the columns for the last 4 weeks\n",
    "        last_4_weeks_columns = [\n",
    "            f\"rides_t-{7*24}\",  # 1 week ago\n",
    "            f\"rides_t-{14*24}\", # 2 weeks ago\n",
    "            f\"rides_t-{21*24}\", # 3 weeks ago\n",
    "            f\"rides_t-{28*24}\"  # 4 weeks ago\n",
    "        ]\n",
    "\n",
    "        # Ensure the required columns exist in the test DataFrame\n",
    "        for col in last_4_weeks_columns:\n",
    "            if col not in X_test.columns:\n",
    "                raise ValueError(f\"Missing required column: {col}\")\n",
    "\n",
    "        # Calculate the average of the last 4 weeks\n",
    "        predictions = X_test[last_4_weeks_columns].mean(axis=1)\n",
    "\n",
    "        return predictions.to_numpy()"
   ]
  },
  {
   "cell_type": "code",
   "execution_count": 73,
   "id": "c578e858-3a10-4903-9647-394d975f4a50",
   "metadata": {},
   "outputs": [],
   "source": [
    "model = BaselineModelLast4Weeks()\n",
    "predictions = model.predict(X_test)"
   ]
  },
  {
   "cell_type": "code",
   "execution_count": 74,
   "id": "ef59ced3-dae5-4ef8-bcc8-234012e4377c",
   "metadata": {},
   "outputs": [
    {
     "data": {
      "text/html": [
       "<div>\n",
       "<style scoped>\n",
       "    .dataframe tbody tr th:only-of-type {\n",
       "        vertical-align: middle;\n",
       "    }\n",
       "\n",
       "    .dataframe tbody tr th {\n",
       "        vertical-align: top;\n",
       "    }\n",
       "\n",
       "    .dataframe thead th {\n",
       "        text-align: right;\n",
       "    }\n",
       "</style>\n",
       "<table border=\"1\" class=\"dataframe\">\n",
       "  <thead>\n",
       "    <tr style=\"text-align: right;\">\n",
       "      <th></th>\n",
       "      <th>rides_t-672</th>\n",
       "      <th>rides_t-671</th>\n",
       "      <th>rides_t-670</th>\n",
       "      <th>rides_t-669</th>\n",
       "      <th>rides_t-668</th>\n",
       "      <th>rides_t-667</th>\n",
       "      <th>rides_t-666</th>\n",
       "      <th>rides_t-665</th>\n",
       "      <th>rides_t-664</th>\n",
       "      <th>rides_t-663</th>\n",
       "      <th>...</th>\n",
       "      <th>rides_t-3</th>\n",
       "      <th>rides_t-2</th>\n",
       "      <th>rides_t-1</th>\n",
       "      <th>pickup_hour</th>\n",
       "      <th>pickup_location_id</th>\n",
       "      <th>pickup_location_name</th>\n",
       "      <th>fft_1</th>\n",
       "      <th>fft_2</th>\n",
       "      <th>fft_3</th>\n",
       "      <th>fft_4</th>\n",
       "    </tr>\n",
       "  </thead>\n",
       "  <tbody>\n",
       "    <tr>\n",
       "      <th>5002</th>\n",
       "      <td>6</td>\n",
       "      <td>1</td>\n",
       "      <td>1</td>\n",
       "      <td>0</td>\n",
       "      <td>7</td>\n",
       "      <td>8</td>\n",
       "      <td>46</td>\n",
       "      <td>41</td>\n",
       "      <td>48</td>\n",
       "      <td>57</td>\n",
       "      <td>...</td>\n",
       "      <td>38</td>\n",
       "      <td>12</td>\n",
       "      <td>14</td>\n",
       "      <td>2023-09-01 05:00:00</td>\n",
       "      <td>43</td>\n",
       "      <td>Other</td>\n",
       "      <td>98.0</td>\n",
       "      <td>32.557641</td>\n",
       "      <td>6.0</td>\n",
       "      <td>32.557641</td>\n",
       "    </tr>\n",
       "    <tr>\n",
       "      <th>5003</th>\n",
       "      <td>7</td>\n",
       "      <td>1</td>\n",
       "      <td>0</td>\n",
       "      <td>0</td>\n",
       "      <td>4</td>\n",
       "      <td>2</td>\n",
       "      <td>11</td>\n",
       "      <td>28</td>\n",
       "      <td>35</td>\n",
       "      <td>52</td>\n",
       "      <td>...</td>\n",
       "      <td>39</td>\n",
       "      <td>9</td>\n",
       "      <td>11</td>\n",
       "      <td>2023-09-02 05:00:00</td>\n",
       "      <td>43</td>\n",
       "      <td>Other</td>\n",
       "      <td>117.0</td>\n",
       "      <td>56.435804</td>\n",
       "      <td>17.0</td>\n",
       "      <td>56.435804</td>\n",
       "    </tr>\n",
       "    <tr>\n",
       "      <th>5004</th>\n",
       "      <td>5</td>\n",
       "      <td>3</td>\n",
       "      <td>1</td>\n",
       "      <td>0</td>\n",
       "      <td>3</td>\n",
       "      <td>7</td>\n",
       "      <td>13</td>\n",
       "      <td>12</td>\n",
       "      <td>27</td>\n",
       "      <td>50</td>\n",
       "      <td>...</td>\n",
       "      <td>53</td>\n",
       "      <td>13</td>\n",
       "      <td>15</td>\n",
       "      <td>2023-09-03 05:00:00</td>\n",
       "      <td>43</td>\n",
       "      <td>Other</td>\n",
       "      <td>144.0</td>\n",
       "      <td>62.801274</td>\n",
       "      <td>8.0</td>\n",
       "      <td>62.801274</td>\n",
       "    </tr>\n",
       "    <tr>\n",
       "      <th>5005</th>\n",
       "      <td>2</td>\n",
       "      <td>0</td>\n",
       "      <td>0</td>\n",
       "      <td>1</td>\n",
       "      <td>5</td>\n",
       "      <td>13</td>\n",
       "      <td>36</td>\n",
       "      <td>34</td>\n",
       "      <td>39</td>\n",
       "      <td>77</td>\n",
       "      <td>...</td>\n",
       "      <td>31</td>\n",
       "      <td>7</td>\n",
       "      <td>20</td>\n",
       "      <td>2023-09-04 05:00:00</td>\n",
       "      <td>43</td>\n",
       "      <td>Other</td>\n",
       "      <td>86.0</td>\n",
       "      <td>23.706539</td>\n",
       "      <td>16.0</td>\n",
       "      <td>23.706539</td>\n",
       "    </tr>\n",
       "    <tr>\n",
       "      <th>5006</th>\n",
       "      <td>0</td>\n",
       "      <td>0</td>\n",
       "      <td>0</td>\n",
       "      <td>1</td>\n",
       "      <td>4</td>\n",
       "      <td>5</td>\n",
       "      <td>44</td>\n",
       "      <td>61</td>\n",
       "      <td>59</td>\n",
       "      <td>68</td>\n",
       "      <td>...</td>\n",
       "      <td>9</td>\n",
       "      <td>8</td>\n",
       "      <td>4</td>\n",
       "      <td>2023-09-05 05:00:00</td>\n",
       "      <td>43</td>\n",
       "      <td>Other</td>\n",
       "      <td>49.0</td>\n",
       "      <td>20.615528</td>\n",
       "      <td>23.0</td>\n",
       "      <td>20.615528</td>\n",
       "    </tr>\n",
       "    <tr>\n",
       "      <th>...</th>\n",
       "      <td>...</td>\n",
       "      <td>...</td>\n",
       "      <td>...</td>\n",
       "      <td>...</td>\n",
       "      <td>...</td>\n",
       "      <td>...</td>\n",
       "      <td>...</td>\n",
       "      <td>...</td>\n",
       "      <td>...</td>\n",
       "      <td>...</td>\n",
       "      <td>...</td>\n",
       "      <td>...</td>\n",
       "      <td>...</td>\n",
       "      <td>...</td>\n",
       "      <td>...</td>\n",
       "      <td>...</td>\n",
       "      <td>...</td>\n",
       "      <td>...</td>\n",
       "      <td>...</td>\n",
       "      <td>...</td>\n",
       "      <td>...</td>\n",
       "    </tr>\n",
       "    <tr>\n",
       "      <th>5119</th>\n",
       "      <td>3</td>\n",
       "      <td>0</td>\n",
       "      <td>1</td>\n",
       "      <td>0</td>\n",
       "      <td>1</td>\n",
       "      <td>6</td>\n",
       "      <td>13</td>\n",
       "      <td>54</td>\n",
       "      <td>106</td>\n",
       "      <td>83</td>\n",
       "      <td>...</td>\n",
       "      <td>31</td>\n",
       "      <td>14</td>\n",
       "      <td>10</td>\n",
       "      <td>2023-12-27 05:00:00</td>\n",
       "      <td>43</td>\n",
       "      <td>Other</td>\n",
       "      <td>99.0</td>\n",
       "      <td>36.619667</td>\n",
       "      <td>17.0</td>\n",
       "      <td>36.619667</td>\n",
       "    </tr>\n",
       "    <tr>\n",
       "      <th>5120</th>\n",
       "      <td>6</td>\n",
       "      <td>2</td>\n",
       "      <td>2</td>\n",
       "      <td>0</td>\n",
       "      <td>1</td>\n",
       "      <td>7</td>\n",
       "      <td>8</td>\n",
       "      <td>58</td>\n",
       "      <td>84</td>\n",
       "      <td>90</td>\n",
       "      <td>...</td>\n",
       "      <td>42</td>\n",
       "      <td>24</td>\n",
       "      <td>7</td>\n",
       "      <td>2023-12-28 05:00:00</td>\n",
       "      <td>43</td>\n",
       "      <td>Other</td>\n",
       "      <td>121.0</td>\n",
       "      <td>42.438190</td>\n",
       "      <td>23.0</td>\n",
       "      <td>42.438190</td>\n",
       "    </tr>\n",
       "    <tr>\n",
       "      <th>5121</th>\n",
       "      <td>20</td>\n",
       "      <td>7</td>\n",
       "      <td>2</td>\n",
       "      <td>0</td>\n",
       "      <td>3</td>\n",
       "      <td>3</td>\n",
       "      <td>13</td>\n",
       "      <td>54</td>\n",
       "      <td>67</td>\n",
       "      <td>90</td>\n",
       "      <td>...</td>\n",
       "      <td>43</td>\n",
       "      <td>30</td>\n",
       "      <td>17</td>\n",
       "      <td>2023-12-29 05:00:00</td>\n",
       "      <td>43</td>\n",
       "      <td>Other</td>\n",
       "      <td>140.0</td>\n",
       "      <td>32.802439</td>\n",
       "      <td>20.0</td>\n",
       "      <td>32.802439</td>\n",
       "    </tr>\n",
       "    <tr>\n",
       "      <th>5122</th>\n",
       "      <td>10</td>\n",
       "      <td>8</td>\n",
       "      <td>3</td>\n",
       "      <td>1</td>\n",
       "      <td>3</td>\n",
       "      <td>0</td>\n",
       "      <td>8</td>\n",
       "      <td>19</td>\n",
       "      <td>35</td>\n",
       "      <td>67</td>\n",
       "      <td>...</td>\n",
       "      <td>69</td>\n",
       "      <td>33</td>\n",
       "      <td>19</td>\n",
       "      <td>2023-12-30 05:00:00</td>\n",
       "      <td>43</td>\n",
       "      <td>Other</td>\n",
       "      <td>279.0</td>\n",
       "      <td>134.629120</td>\n",
       "      <td>103.0</td>\n",
       "      <td>134.629120</td>\n",
       "    </tr>\n",
       "    <tr>\n",
       "      <th>5123</th>\n",
       "      <td>19</td>\n",
       "      <td>10</td>\n",
       "      <td>1</td>\n",
       "      <td>2</td>\n",
       "      <td>2</td>\n",
       "      <td>3</td>\n",
       "      <td>2</td>\n",
       "      <td>23</td>\n",
       "      <td>28</td>\n",
       "      <td>64</td>\n",
       "      <td>...</td>\n",
       "      <td>78</td>\n",
       "      <td>39</td>\n",
       "      <td>28</td>\n",
       "      <td>2023-12-31 05:00:00</td>\n",
       "      <td>43</td>\n",
       "      <td>Other</td>\n",
       "      <td>278.0</td>\n",
       "      <td>106.470653</td>\n",
       "      <td>66.0</td>\n",
       "      <td>106.470653</td>\n",
       "    </tr>\n",
       "  </tbody>\n",
       "</table>\n",
       "<p>122 rows × 679 columns</p>\n",
       "</div>"
      ],
      "text/plain": [
       "      rides_t-672  rides_t-671  rides_t-670  rides_t-669  rides_t-668  \\\n",
       "5002            6            1            1            0            7   \n",
       "5003            7            1            0            0            4   \n",
       "5004            5            3            1            0            3   \n",
       "5005            2            0            0            1            5   \n",
       "5006            0            0            0            1            4   \n",
       "...           ...          ...          ...          ...          ...   \n",
       "5119            3            0            1            0            1   \n",
       "5120            6            2            2            0            1   \n",
       "5121           20            7            2            0            3   \n",
       "5122           10            8            3            1            3   \n",
       "5123           19           10            1            2            2   \n",
       "\n",
       "      rides_t-667  rides_t-666  rides_t-665  rides_t-664  rides_t-663  ...  \\\n",
       "5002            8           46           41           48           57  ...   \n",
       "5003            2           11           28           35           52  ...   \n",
       "5004            7           13           12           27           50  ...   \n",
       "5005           13           36           34           39           77  ...   \n",
       "5006            5           44           61           59           68  ...   \n",
       "...           ...          ...          ...          ...          ...  ...   \n",
       "5119            6           13           54          106           83  ...   \n",
       "5120            7            8           58           84           90  ...   \n",
       "5121            3           13           54           67           90  ...   \n",
       "5122            0            8           19           35           67  ...   \n",
       "5123            3            2           23           28           64  ...   \n",
       "\n",
       "      rides_t-3  rides_t-2  rides_t-1         pickup_hour  pickup_location_id  \\\n",
       "5002         38         12         14 2023-09-01 05:00:00                  43   \n",
       "5003         39          9         11 2023-09-02 05:00:00                  43   \n",
       "5004         53         13         15 2023-09-03 05:00:00                  43   \n",
       "5005         31          7         20 2023-09-04 05:00:00                  43   \n",
       "5006          9          8          4 2023-09-05 05:00:00                  43   \n",
       "...         ...        ...        ...                 ...                 ...   \n",
       "5119         31         14         10 2023-12-27 05:00:00                  43   \n",
       "5120         42         24          7 2023-12-28 05:00:00                  43   \n",
       "5121         43         30         17 2023-12-29 05:00:00                  43   \n",
       "5122         69         33         19 2023-12-30 05:00:00                  43   \n",
       "5123         78         39         28 2023-12-31 05:00:00                  43   \n",
       "\n",
       "      pickup_location_name  fft_1       fft_2  fft_3       fft_4  \n",
       "5002                 Other   98.0   32.557641    6.0   32.557641  \n",
       "5003                 Other  117.0   56.435804   17.0   56.435804  \n",
       "5004                 Other  144.0   62.801274    8.0   62.801274  \n",
       "5005                 Other   86.0   23.706539   16.0   23.706539  \n",
       "5006                 Other   49.0   20.615528   23.0   20.615528  \n",
       "...                    ...    ...         ...    ...         ...  \n",
       "5119                 Other   99.0   36.619667   17.0   36.619667  \n",
       "5120                 Other  121.0   42.438190   23.0   42.438190  \n",
       "5121                 Other  140.0   32.802439   20.0   32.802439  \n",
       "5122                 Other  279.0  134.629120  103.0  134.629120  \n",
       "5123                 Other  278.0  106.470653   66.0  106.470653  \n",
       "\n",
       "[122 rows x 679 columns]"
      ]
     },
     "execution_count": 74,
     "metadata": {},
     "output_type": "execute_result"
    }
   ],
   "source": [
    "X_test[X_test['pickup_location_id']==43] "
   ]
  },
  {
   "cell_type": "code",
   "execution_count": 75,
   "id": "e106e233-1396-41e9-8906-1d45a1ab6972",
   "metadata": {},
   "outputs": [
    {
     "name": "stdout",
     "output_type": "stream",
     "text": [
      "4.2974\n"
     ]
    }
   ],
   "source": [
    "test_mae = mean_absolute_error(y_test, predictions)\n",
    "print(f\"{test_mae:.4f}\")"
   ]
  },
  {
   "cell_type": "code",
   "execution_count": 76,
   "id": "1da51143-c03b-4e23-ab83-2154b8f12f92",
   "metadata": {},
   "outputs": [
    {
     "name": "stderr",
     "output_type": "stream",
     "text": [
      "INFO:src.experiment_utils:Experiment set to: BaselineModelLast4Weeks\n",
      "INFO:src.experiment_utils:Logged mean_absolute_error: 4.297406998738966\n",
      "/opt/anaconda3/lib/python3.12/site-packages/mlflow/types/utils.py:435: UserWarning:\n",
      "\n",
      "Hint: Inferred schema contains integer column(s). Integer columns in Python cannot represent missing values. If your input data contains missing values at inference time, it will be encoded as floats and will cause a schema enforcement error. The best way to avoid this problem is to infer the model schema based on a realistic data sample (training dataset) that includes missing values. Alternatively, you can declare integer columns as doubles (float64) whenever these columns may have missing values. See `Handling Integers With Missing Values <https://www.mlflow.org/docs/latest/models.html#handling-integers-with-missing-values>`_ for more details.\n",
      "\n",
      "INFO:src.experiment_utils:Model signature inferred.\n",
      "WARNING:urllib3.connectionpool:Retrying (Retry(total=4, connect=5, read=4, redirect=5, status=5)) after connection broken by 'RemoteDisconnected('Remote end closed connection without response')': /sharmila.23devi/nyc_taxi_proj.mlflow/api/2.0/mlflow/runs/get?run_uuid=bc05254dd65d410c8676b524e558a857&run_id=bc05254dd65d410c8676b524e558a857\n",
      "Registered model 'BaselineModelLast4Weeks' already exists. Creating a new version of this model...\n",
      "2025/03/03 12:25:55 INFO mlflow.store.model_registry.abstract_store: Waiting up to 300 seconds for model version to finish creation. Model name: BaselineModelLast4Weeks, version 3\n",
      "Created version '3' of model 'BaselineModelLast4Weeks'.\n",
      "INFO:src.experiment_utils:Model logged with name: BaselineModelLast4Weeks\n"
     ]
    },
    {
     "name": "stdout",
     "output_type": "stream",
     "text": [
      "🏃 View run persistent-kit-881 at: https://dagshub.com/sharmila.23devi/nyc_taxi_proj.mlflow/#/experiments/2/runs/bc05254dd65d410c8676b524e558a857\n",
      "🧪 View experiment at: https://dagshub.com/sharmila.23devi/nyc_taxi_proj.mlflow/#/experiments/2\n"
     ]
    },
    {
     "data": {
      "text/plain": [
       "<mlflow.models.model.ModelInfo at 0x174429eb0>"
      ]
     },
     "execution_count": 76,
     "metadata": {},
     "output_type": "execute_result"
    }
   ],
   "source": [
    "log_model_to_mlflow(model, X_test, \"BaselineModelLast4Weeks\", \"mean_absolute_error\", score=test_mae)"
   ]
  },
  {
   "cell_type": "code",
   "execution_count": 77,
   "id": "d271232c-97c6-499b-b5c8-0a66149c5fef",
   "metadata": {},
   "outputs": [
    {
     "data": {
      "application/vnd.plotly.v1+json": {
       "config": {
        "plotlyServerURL": "https://plot.ly"
       },
       "data": [
        {
         "hovertemplate": "Time=%{x}<br>Ride Counts=%{y}<extra></extra>",
         "legendgroup": "",
         "line": {
          "color": "#636efa",
          "dash": "solid"
         },
         "marker": {
          "symbol": "circle"
         },
         "mode": "lines+markers",
         "name": "",
         "orientation": "v",
         "showlegend": false,
         "type": "scatter",
         "x": [
          "2023-08-04T05:00:00",
          "2023-08-04T06:00:00",
          "2023-08-04T07:00:00",
          "2023-08-04T08:00:00",
          "2023-08-04T09:00:00",
          "2023-08-04T10:00:00",
          "2023-08-04T11:00:00",
          "2023-08-04T12:00:00",
          "2023-08-04T13:00:00",
          "2023-08-04T14:00:00",
          "2023-08-04T15:00:00",
          "2023-08-04T16:00:00",
          "2023-08-04T17:00:00",
          "2023-08-04T18:00:00",
          "2023-08-04T19:00:00",
          "2023-08-04T20:00:00",
          "2023-08-04T21:00:00",
          "2023-08-04T22:00:00",
          "2023-08-04T23:00:00",
          "2023-08-05T00:00:00",
          "2023-08-05T01:00:00",
          "2023-08-05T02:00:00",
          "2023-08-05T03:00:00",
          "2023-08-05T04:00:00",
          "2023-08-05T05:00:00",
          "2023-08-05T06:00:00",
          "2023-08-05T07:00:00",
          "2023-08-05T08:00:00",
          "2023-08-05T09:00:00",
          "2023-08-05T10:00:00",
          "2023-08-05T11:00:00",
          "2023-08-05T12:00:00",
          "2023-08-05T13:00:00",
          "2023-08-05T14:00:00",
          "2023-08-05T15:00:00",
          "2023-08-05T16:00:00",
          "2023-08-05T17:00:00",
          "2023-08-05T18:00:00",
          "2023-08-05T19:00:00",
          "2023-08-05T20:00:00",
          "2023-08-05T21:00:00",
          "2023-08-05T22:00:00",
          "2023-08-05T23:00:00",
          "2023-08-06T00:00:00",
          "2023-08-06T01:00:00",
          "2023-08-06T02:00:00",
          "2023-08-06T03:00:00",
          "2023-08-06T04:00:00",
          "2023-08-06T05:00:00",
          "2023-08-06T06:00:00",
          "2023-08-06T07:00:00",
          "2023-08-06T08:00:00",
          "2023-08-06T09:00:00",
          "2023-08-06T10:00:00",
          "2023-08-06T11:00:00",
          "2023-08-06T12:00:00",
          "2023-08-06T13:00:00",
          "2023-08-06T14:00:00",
          "2023-08-06T15:00:00",
          "2023-08-06T16:00:00",
          "2023-08-06T17:00:00",
          "2023-08-06T18:00:00",
          "2023-08-06T19:00:00",
          "2023-08-06T20:00:00",
          "2023-08-06T21:00:00",
          "2023-08-06T22:00:00",
          "2023-08-06T23:00:00",
          "2023-08-07T00:00:00",
          "2023-08-07T01:00:00",
          "2023-08-07T02:00:00",
          "2023-08-07T03:00:00",
          "2023-08-07T04:00:00",
          "2023-08-07T05:00:00",
          "2023-08-07T06:00:00",
          "2023-08-07T07:00:00",
          "2023-08-07T08:00:00",
          "2023-08-07T09:00:00",
          "2023-08-07T10:00:00",
          "2023-08-07T11:00:00",
          "2023-08-07T12:00:00",
          "2023-08-07T13:00:00",
          "2023-08-07T14:00:00",
          "2023-08-07T15:00:00",
          "2023-08-07T16:00:00",
          "2023-08-07T17:00:00",
          "2023-08-07T18:00:00",
          "2023-08-07T19:00:00",
          "2023-08-07T20:00:00",
          "2023-08-07T21:00:00",
          "2023-08-07T22:00:00",
          "2023-08-07T23:00:00",
          "2023-08-08T00:00:00",
          "2023-08-08T01:00:00",
          "2023-08-08T02:00:00",
          "2023-08-08T03:00:00",
          "2023-08-08T04:00:00",
          "2023-08-08T05:00:00",
          "2023-08-08T06:00:00",
          "2023-08-08T07:00:00",
          "2023-08-08T08:00:00",
          "2023-08-08T09:00:00",
          "2023-08-08T10:00:00",
          "2023-08-08T11:00:00",
          "2023-08-08T12:00:00",
          "2023-08-08T13:00:00",
          "2023-08-08T14:00:00",
          "2023-08-08T15:00:00",
          "2023-08-08T16:00:00",
          "2023-08-08T17:00:00",
          "2023-08-08T18:00:00",
          "2023-08-08T19:00:00",
          "2023-08-08T20:00:00",
          "2023-08-08T21:00:00",
          "2023-08-08T22:00:00",
          "2023-08-08T23:00:00",
          "2023-08-09T00:00:00",
          "2023-08-09T01:00:00",
          "2023-08-09T02:00:00",
          "2023-08-09T03:00:00",
          "2023-08-09T04:00:00",
          "2023-08-09T05:00:00",
          "2023-08-09T06:00:00",
          "2023-08-09T07:00:00",
          "2023-08-09T08:00:00",
          "2023-08-09T09:00:00",
          "2023-08-09T10:00:00",
          "2023-08-09T11:00:00",
          "2023-08-09T12:00:00",
          "2023-08-09T13:00:00",
          "2023-08-09T14:00:00",
          "2023-08-09T15:00:00",
          "2023-08-09T16:00:00",
          "2023-08-09T17:00:00",
          "2023-08-09T18:00:00",
          "2023-08-09T19:00:00",
          "2023-08-09T20:00:00",
          "2023-08-09T21:00:00",
          "2023-08-09T22:00:00",
          "2023-08-09T23:00:00",
          "2023-08-10T00:00:00",
          "2023-08-10T01:00:00",
          "2023-08-10T02:00:00",
          "2023-08-10T03:00:00",
          "2023-08-10T04:00:00",
          "2023-08-10T05:00:00",
          "2023-08-10T06:00:00",
          "2023-08-10T07:00:00",
          "2023-08-10T08:00:00",
          "2023-08-10T09:00:00",
          "2023-08-10T10:00:00",
          "2023-08-10T11:00:00",
          "2023-08-10T12:00:00",
          "2023-08-10T13:00:00",
          "2023-08-10T14:00:00",
          "2023-08-10T15:00:00",
          "2023-08-10T16:00:00",
          "2023-08-10T17:00:00",
          "2023-08-10T18:00:00",
          "2023-08-10T19:00:00",
          "2023-08-10T20:00:00",
          "2023-08-10T21:00:00",
          "2023-08-10T22:00:00",
          "2023-08-10T23:00:00",
          "2023-08-11T00:00:00",
          "2023-08-11T01:00:00",
          "2023-08-11T02:00:00",
          "2023-08-11T03:00:00",
          "2023-08-11T04:00:00",
          "2023-08-11T05:00:00",
          "2023-08-11T06:00:00",
          "2023-08-11T07:00:00",
          "2023-08-11T08:00:00",
          "2023-08-11T09:00:00",
          "2023-08-11T10:00:00",
          "2023-08-11T11:00:00",
          "2023-08-11T12:00:00",
          "2023-08-11T13:00:00",
          "2023-08-11T14:00:00",
          "2023-08-11T15:00:00",
          "2023-08-11T16:00:00",
          "2023-08-11T17:00:00",
          "2023-08-11T18:00:00",
          "2023-08-11T19:00:00",
          "2023-08-11T20:00:00",
          "2023-08-11T21:00:00",
          "2023-08-11T22:00:00",
          "2023-08-11T23:00:00",
          "2023-08-12T00:00:00",
          "2023-08-12T01:00:00",
          "2023-08-12T02:00:00",
          "2023-08-12T03:00:00",
          "2023-08-12T04:00:00",
          "2023-08-12T05:00:00",
          "2023-08-12T06:00:00",
          "2023-08-12T07:00:00",
          "2023-08-12T08:00:00",
          "2023-08-12T09:00:00",
          "2023-08-12T10:00:00",
          "2023-08-12T11:00:00",
          "2023-08-12T12:00:00",
          "2023-08-12T13:00:00",
          "2023-08-12T14:00:00",
          "2023-08-12T15:00:00",
          "2023-08-12T16:00:00",
          "2023-08-12T17:00:00",
          "2023-08-12T18:00:00",
          "2023-08-12T19:00:00",
          "2023-08-12T20:00:00",
          "2023-08-12T21:00:00",
          "2023-08-12T22:00:00",
          "2023-08-12T23:00:00",
          "2023-08-13T00:00:00",
          "2023-08-13T01:00:00",
          "2023-08-13T02:00:00",
          "2023-08-13T03:00:00",
          "2023-08-13T04:00:00",
          "2023-08-13T05:00:00",
          "2023-08-13T06:00:00",
          "2023-08-13T07:00:00",
          "2023-08-13T08:00:00",
          "2023-08-13T09:00:00",
          "2023-08-13T10:00:00",
          "2023-08-13T11:00:00",
          "2023-08-13T12:00:00",
          "2023-08-13T13:00:00",
          "2023-08-13T14:00:00",
          "2023-08-13T15:00:00",
          "2023-08-13T16:00:00",
          "2023-08-13T17:00:00",
          "2023-08-13T18:00:00",
          "2023-08-13T19:00:00",
          "2023-08-13T20:00:00",
          "2023-08-13T21:00:00",
          "2023-08-13T22:00:00",
          "2023-08-13T23:00:00",
          "2023-08-14T00:00:00",
          "2023-08-14T01:00:00",
          "2023-08-14T02:00:00",
          "2023-08-14T03:00:00",
          "2023-08-14T04:00:00",
          "2023-08-14T05:00:00",
          "2023-08-14T06:00:00",
          "2023-08-14T07:00:00",
          "2023-08-14T08:00:00",
          "2023-08-14T09:00:00",
          "2023-08-14T10:00:00",
          "2023-08-14T11:00:00",
          "2023-08-14T12:00:00",
          "2023-08-14T13:00:00",
          "2023-08-14T14:00:00",
          "2023-08-14T15:00:00",
          "2023-08-14T16:00:00",
          "2023-08-14T17:00:00",
          "2023-08-14T18:00:00",
          "2023-08-14T19:00:00",
          "2023-08-14T20:00:00",
          "2023-08-14T21:00:00",
          "2023-08-14T22:00:00",
          "2023-08-14T23:00:00",
          "2023-08-15T00:00:00",
          "2023-08-15T01:00:00",
          "2023-08-15T02:00:00",
          "2023-08-15T03:00:00",
          "2023-08-15T04:00:00",
          "2023-08-15T05:00:00",
          "2023-08-15T06:00:00",
          "2023-08-15T07:00:00",
          "2023-08-15T08:00:00",
          "2023-08-15T09:00:00",
          "2023-08-15T10:00:00",
          "2023-08-15T11:00:00",
          "2023-08-15T12:00:00",
          "2023-08-15T13:00:00",
          "2023-08-15T14:00:00",
          "2023-08-15T15:00:00",
          "2023-08-15T16:00:00",
          "2023-08-15T17:00:00",
          "2023-08-15T18:00:00",
          "2023-08-15T19:00:00",
          "2023-08-15T20:00:00",
          "2023-08-15T21:00:00",
          "2023-08-15T22:00:00",
          "2023-08-15T23:00:00",
          "2023-08-16T00:00:00",
          "2023-08-16T01:00:00",
          "2023-08-16T02:00:00",
          "2023-08-16T03:00:00",
          "2023-08-16T04:00:00",
          "2023-08-16T05:00:00",
          "2023-08-16T06:00:00",
          "2023-08-16T07:00:00",
          "2023-08-16T08:00:00",
          "2023-08-16T09:00:00",
          "2023-08-16T10:00:00",
          "2023-08-16T11:00:00",
          "2023-08-16T12:00:00",
          "2023-08-16T13:00:00",
          "2023-08-16T14:00:00",
          "2023-08-16T15:00:00",
          "2023-08-16T16:00:00",
          "2023-08-16T17:00:00",
          "2023-08-16T18:00:00",
          "2023-08-16T19:00:00",
          "2023-08-16T20:00:00",
          "2023-08-16T21:00:00",
          "2023-08-16T22:00:00",
          "2023-08-16T23:00:00",
          "2023-08-17T00:00:00",
          "2023-08-17T01:00:00",
          "2023-08-17T02:00:00",
          "2023-08-17T03:00:00",
          "2023-08-17T04:00:00",
          "2023-08-17T05:00:00",
          "2023-08-17T06:00:00",
          "2023-08-17T07:00:00",
          "2023-08-17T08:00:00",
          "2023-08-17T09:00:00",
          "2023-08-17T10:00:00",
          "2023-08-17T11:00:00",
          "2023-08-17T12:00:00",
          "2023-08-17T13:00:00",
          "2023-08-17T14:00:00",
          "2023-08-17T15:00:00",
          "2023-08-17T16:00:00",
          "2023-08-17T17:00:00",
          "2023-08-17T18:00:00",
          "2023-08-17T19:00:00",
          "2023-08-17T20:00:00",
          "2023-08-17T21:00:00",
          "2023-08-17T22:00:00",
          "2023-08-17T23:00:00",
          "2023-08-18T00:00:00",
          "2023-08-18T01:00:00",
          "2023-08-18T02:00:00",
          "2023-08-18T03:00:00",
          "2023-08-18T04:00:00",
          "2023-08-18T05:00:00",
          "2023-08-18T06:00:00",
          "2023-08-18T07:00:00",
          "2023-08-18T08:00:00",
          "2023-08-18T09:00:00",
          "2023-08-18T10:00:00",
          "2023-08-18T11:00:00",
          "2023-08-18T12:00:00",
          "2023-08-18T13:00:00",
          "2023-08-18T14:00:00",
          "2023-08-18T15:00:00",
          "2023-08-18T16:00:00",
          "2023-08-18T17:00:00",
          "2023-08-18T18:00:00",
          "2023-08-18T19:00:00",
          "2023-08-18T20:00:00",
          "2023-08-18T21:00:00",
          "2023-08-18T22:00:00",
          "2023-08-18T23:00:00",
          "2023-08-19T00:00:00",
          "2023-08-19T01:00:00",
          "2023-08-19T02:00:00",
          "2023-08-19T03:00:00",
          "2023-08-19T04:00:00",
          "2023-08-19T05:00:00",
          "2023-08-19T06:00:00",
          "2023-08-19T07:00:00",
          "2023-08-19T08:00:00",
          "2023-08-19T09:00:00",
          "2023-08-19T10:00:00",
          "2023-08-19T11:00:00",
          "2023-08-19T12:00:00",
          "2023-08-19T13:00:00",
          "2023-08-19T14:00:00",
          "2023-08-19T15:00:00",
          "2023-08-19T16:00:00",
          "2023-08-19T17:00:00",
          "2023-08-19T18:00:00",
          "2023-08-19T19:00:00",
          "2023-08-19T20:00:00",
          "2023-08-19T21:00:00",
          "2023-08-19T22:00:00",
          "2023-08-19T23:00:00",
          "2023-08-20T00:00:00",
          "2023-08-20T01:00:00",
          "2023-08-20T02:00:00",
          "2023-08-20T03:00:00",
          "2023-08-20T04:00:00",
          "2023-08-20T05:00:00",
          "2023-08-20T06:00:00",
          "2023-08-20T07:00:00",
          "2023-08-20T08:00:00",
          "2023-08-20T09:00:00",
          "2023-08-20T10:00:00",
          "2023-08-20T11:00:00",
          "2023-08-20T12:00:00",
          "2023-08-20T13:00:00",
          "2023-08-20T14:00:00",
          "2023-08-20T15:00:00",
          "2023-08-20T16:00:00",
          "2023-08-20T17:00:00",
          "2023-08-20T18:00:00",
          "2023-08-20T19:00:00",
          "2023-08-20T20:00:00",
          "2023-08-20T21:00:00",
          "2023-08-20T22:00:00",
          "2023-08-20T23:00:00",
          "2023-08-21T00:00:00",
          "2023-08-21T01:00:00",
          "2023-08-21T02:00:00",
          "2023-08-21T03:00:00",
          "2023-08-21T04:00:00",
          "2023-08-21T05:00:00",
          "2023-08-21T06:00:00",
          "2023-08-21T07:00:00",
          "2023-08-21T08:00:00",
          "2023-08-21T09:00:00",
          "2023-08-21T10:00:00",
          "2023-08-21T11:00:00",
          "2023-08-21T12:00:00",
          "2023-08-21T13:00:00",
          "2023-08-21T14:00:00",
          "2023-08-21T15:00:00",
          "2023-08-21T16:00:00",
          "2023-08-21T17:00:00",
          "2023-08-21T18:00:00",
          "2023-08-21T19:00:00",
          "2023-08-21T20:00:00",
          "2023-08-21T21:00:00",
          "2023-08-21T22:00:00",
          "2023-08-21T23:00:00",
          "2023-08-22T00:00:00",
          "2023-08-22T01:00:00",
          "2023-08-22T02:00:00",
          "2023-08-22T03:00:00",
          "2023-08-22T04:00:00",
          "2023-08-22T05:00:00",
          "2023-08-22T06:00:00",
          "2023-08-22T07:00:00",
          "2023-08-22T08:00:00",
          "2023-08-22T09:00:00",
          "2023-08-22T10:00:00",
          "2023-08-22T11:00:00",
          "2023-08-22T12:00:00",
          "2023-08-22T13:00:00",
          "2023-08-22T14:00:00",
          "2023-08-22T15:00:00",
          "2023-08-22T16:00:00",
          "2023-08-22T17:00:00",
          "2023-08-22T18:00:00",
          "2023-08-22T19:00:00",
          "2023-08-22T20:00:00",
          "2023-08-22T21:00:00",
          "2023-08-22T22:00:00",
          "2023-08-22T23:00:00",
          "2023-08-23T00:00:00",
          "2023-08-23T01:00:00",
          "2023-08-23T02:00:00",
          "2023-08-23T03:00:00",
          "2023-08-23T04:00:00",
          "2023-08-23T05:00:00",
          "2023-08-23T06:00:00",
          "2023-08-23T07:00:00",
          "2023-08-23T08:00:00",
          "2023-08-23T09:00:00",
          "2023-08-23T10:00:00",
          "2023-08-23T11:00:00",
          "2023-08-23T12:00:00",
          "2023-08-23T13:00:00",
          "2023-08-23T14:00:00",
          "2023-08-23T15:00:00",
          "2023-08-23T16:00:00",
          "2023-08-23T17:00:00",
          "2023-08-23T18:00:00",
          "2023-08-23T19:00:00",
          "2023-08-23T20:00:00",
          "2023-08-23T21:00:00",
          "2023-08-23T22:00:00",
          "2023-08-23T23:00:00",
          "2023-08-24T00:00:00",
          "2023-08-24T01:00:00",
          "2023-08-24T02:00:00",
          "2023-08-24T03:00:00",
          "2023-08-24T04:00:00",
          "2023-08-24T05:00:00",
          "2023-08-24T06:00:00",
          "2023-08-24T07:00:00",
          "2023-08-24T08:00:00",
          "2023-08-24T09:00:00",
          "2023-08-24T10:00:00",
          "2023-08-24T11:00:00",
          "2023-08-24T12:00:00",
          "2023-08-24T13:00:00",
          "2023-08-24T14:00:00",
          "2023-08-24T15:00:00",
          "2023-08-24T16:00:00",
          "2023-08-24T17:00:00",
          "2023-08-24T18:00:00",
          "2023-08-24T19:00:00",
          "2023-08-24T20:00:00",
          "2023-08-24T21:00:00",
          "2023-08-24T22:00:00",
          "2023-08-24T23:00:00",
          "2023-08-25T00:00:00",
          "2023-08-25T01:00:00",
          "2023-08-25T02:00:00",
          "2023-08-25T03:00:00",
          "2023-08-25T04:00:00",
          "2023-08-25T05:00:00",
          "2023-08-25T06:00:00",
          "2023-08-25T07:00:00",
          "2023-08-25T08:00:00",
          "2023-08-25T09:00:00",
          "2023-08-25T10:00:00",
          "2023-08-25T11:00:00",
          "2023-08-25T12:00:00",
          "2023-08-25T13:00:00",
          "2023-08-25T14:00:00",
          "2023-08-25T15:00:00",
          "2023-08-25T16:00:00",
          "2023-08-25T17:00:00",
          "2023-08-25T18:00:00",
          "2023-08-25T19:00:00",
          "2023-08-25T20:00:00",
          "2023-08-25T21:00:00",
          "2023-08-25T22:00:00",
          "2023-08-25T23:00:00",
          "2023-08-26T00:00:00",
          "2023-08-26T01:00:00",
          "2023-08-26T02:00:00",
          "2023-08-26T03:00:00",
          "2023-08-26T04:00:00",
          "2023-08-26T05:00:00",
          "2023-08-26T06:00:00",
          "2023-08-26T07:00:00",
          "2023-08-26T08:00:00",
          "2023-08-26T09:00:00",
          "2023-08-26T10:00:00",
          "2023-08-26T11:00:00",
          "2023-08-26T12:00:00",
          "2023-08-26T13:00:00",
          "2023-08-26T14:00:00",
          "2023-08-26T15:00:00",
          "2023-08-26T16:00:00",
          "2023-08-26T17:00:00",
          "2023-08-26T18:00:00",
          "2023-08-26T19:00:00",
          "2023-08-26T20:00:00",
          "2023-08-26T21:00:00",
          "2023-08-26T22:00:00",
          "2023-08-26T23:00:00",
          "2023-08-27T00:00:00",
          "2023-08-27T01:00:00",
          "2023-08-27T02:00:00",
          "2023-08-27T03:00:00",
          "2023-08-27T04:00:00",
          "2023-08-27T05:00:00",
          "2023-08-27T06:00:00",
          "2023-08-27T07:00:00",
          "2023-08-27T08:00:00",
          "2023-08-27T09:00:00",
          "2023-08-27T10:00:00",
          "2023-08-27T11:00:00",
          "2023-08-27T12:00:00",
          "2023-08-27T13:00:00",
          "2023-08-27T14:00:00",
          "2023-08-27T15:00:00",
          "2023-08-27T16:00:00",
          "2023-08-27T17:00:00",
          "2023-08-27T18:00:00",
          "2023-08-27T19:00:00",
          "2023-08-27T20:00:00",
          "2023-08-27T21:00:00",
          "2023-08-27T22:00:00",
          "2023-08-27T23:00:00",
          "2023-08-28T00:00:00",
          "2023-08-28T01:00:00",
          "2023-08-28T02:00:00",
          "2023-08-28T03:00:00",
          "2023-08-28T04:00:00",
          "2023-08-28T05:00:00",
          "2023-08-28T06:00:00",
          "2023-08-28T07:00:00",
          "2023-08-28T08:00:00",
          "2023-08-28T09:00:00",
          "2023-08-28T10:00:00",
          "2023-08-28T11:00:00",
          "2023-08-28T12:00:00",
          "2023-08-28T13:00:00",
          "2023-08-28T14:00:00",
          "2023-08-28T15:00:00",
          "2023-08-28T16:00:00",
          "2023-08-28T17:00:00",
          "2023-08-28T18:00:00",
          "2023-08-28T19:00:00",
          "2023-08-28T20:00:00",
          "2023-08-28T21:00:00",
          "2023-08-28T22:00:00",
          "2023-08-28T23:00:00",
          "2023-08-29T00:00:00",
          "2023-08-29T01:00:00",
          "2023-08-29T02:00:00",
          "2023-08-29T03:00:00",
          "2023-08-29T04:00:00",
          "2023-08-29T05:00:00",
          "2023-08-29T06:00:00",
          "2023-08-29T07:00:00",
          "2023-08-29T08:00:00",
          "2023-08-29T09:00:00",
          "2023-08-29T10:00:00",
          "2023-08-29T11:00:00",
          "2023-08-29T12:00:00",
          "2023-08-29T13:00:00",
          "2023-08-29T14:00:00",
          "2023-08-29T15:00:00",
          "2023-08-29T16:00:00",
          "2023-08-29T17:00:00",
          "2023-08-29T18:00:00",
          "2023-08-29T19:00:00",
          "2023-08-29T20:00:00",
          "2023-08-29T21:00:00",
          "2023-08-29T22:00:00",
          "2023-08-29T23:00:00",
          "2023-08-30T00:00:00",
          "2023-08-30T01:00:00",
          "2023-08-30T02:00:00",
          "2023-08-30T03:00:00",
          "2023-08-30T04:00:00",
          "2023-08-30T05:00:00",
          "2023-08-30T06:00:00",
          "2023-08-30T07:00:00",
          "2023-08-30T08:00:00",
          "2023-08-30T09:00:00",
          "2023-08-30T10:00:00",
          "2023-08-30T11:00:00",
          "2023-08-30T12:00:00",
          "2023-08-30T13:00:00",
          "2023-08-30T14:00:00",
          "2023-08-30T15:00:00",
          "2023-08-30T16:00:00",
          "2023-08-30T17:00:00",
          "2023-08-30T18:00:00",
          "2023-08-30T19:00:00",
          "2023-08-30T20:00:00",
          "2023-08-30T21:00:00",
          "2023-08-30T22:00:00",
          "2023-08-30T23:00:00",
          "2023-08-31T00:00:00",
          "2023-08-31T01:00:00",
          "2023-08-31T02:00:00",
          "2023-08-31T03:00:00",
          "2023-08-31T04:00:00",
          "2023-08-31T05:00:00",
          "2023-08-31T06:00:00",
          "2023-08-31T07:00:00",
          "2023-08-31T08:00:00",
          "2023-08-31T09:00:00",
          "2023-08-31T10:00:00",
          "2023-08-31T11:00:00",
          "2023-08-31T12:00:00",
          "2023-08-31T13:00:00",
          "2023-08-31T14:00:00",
          "2023-08-31T15:00:00",
          "2023-08-31T16:00:00",
          "2023-08-31T17:00:00",
          "2023-08-31T18:00:00",
          "2023-08-31T19:00:00",
          "2023-08-31T20:00:00",
          "2023-08-31T21:00:00",
          "2023-08-31T22:00:00",
          "2023-08-31T23:00:00",
          "2023-09-01T00:00:00",
          "2023-09-01T01:00:00",
          "2023-09-01T02:00:00",
          "2023-09-01T03:00:00",
          "2023-09-01T04:00:00",
          "2023-09-01T05:00:00"
         ],
         "xaxis": "x",
         "y": [
          6,
          1,
          1,
          0,
          7,
          8,
          46,
          41,
          48,
          57,
          76,
          125,
          143,
          140,
          164,
          154,
          161,
          115,
          115,
          90,
          64,
          30,
          23,
          13,
          7,
          1,
          0,
          0,
          4,
          2,
          11,
          28,
          35,
          52,
          81,
          116,
          131,
          160,
          192,
          178,
          167,
          146,
          132,
          108,
          70,
          45,
          35,
          14,
          5,
          3,
          1,
          0,
          3,
          7,
          13,
          12,
          27,
          50,
          65,
          130,
          125,
          165,
          139,
          167,
          124,
          72,
          61,
          45,
          46,
          21,
          15,
          2,
          2,
          0,
          0,
          1,
          5,
          13,
          36,
          34,
          39,
          77,
          66,
          103,
          115,
          137,
          138,
          154,
          116,
          69,
          66,
          36,
          14,
          21,
          10,
          3,
          0,
          0,
          0,
          1,
          4,
          5,
          44,
          61,
          59,
          68,
          87,
          109,
          109,
          106,
          144,
          161,
          98,
          93,
          65,
          64,
          52,
          40,
          14,
          1,
          0,
          1,
          3,
          2,
          2,
          13,
          39,
          50,
          46,
          56,
          92,
          130,
          92,
          101,
          121,
          107,
          92,
          82,
          76,
          73,
          111,
          87,
          24,
          5,
          5,
          2,
          0,
          0,
          2,
          12,
          41,
          39,
          52,
          73,
          99,
          156,
          163,
          149,
          195,
          205,
          124,
          68,
          66,
          61,
          74,
          67,
          19,
          12,
          7,
          0,
          3,
          2,
          2,
          13,
          25,
          30,
          44,
          60,
          67,
          104,
          116,
          141,
          150,
          142,
          151,
          135,
          121,
          108,
          67,
          25,
          19,
          9,
          8,
          3,
          4,
          2,
          3,
          5,
          13,
          25,
          40,
          39,
          73,
          114,
          137,
          148,
          172,
          174,
          176,
          141,
          158,
          106,
          57,
          44,
          29,
          9,
          5,
          0,
          0,
          2,
          2,
          3,
          10,
          16,
          24,
          48,
          84,
          110,
          126,
          118,
          119,
          146,
          132,
          73,
          66,
          43,
          23,
          24,
          8,
          1,
          2,
          2,
          1,
          2,
          5,
          10,
          28,
          34,
          47,
          50,
          80,
          91,
          106,
          133,
          152,
          150,
          114,
          70,
          88,
          52,
          35,
          36,
          8,
          5,
          3,
          0,
          0,
          2,
          0,
          13,
          38,
          20,
          65,
          58,
          109,
          102,
          149,
          127,
          120,
          154,
          149,
          71,
          69,
          57,
          56,
          42,
          15,
          5,
          3,
          1,
          0,
          0,
          0,
          11,
          43,
          45,
          59,
          63,
          103,
          82,
          100,
          117,
          104,
          76,
          99,
          78,
          67,
          57,
          39,
          53,
          23,
          6,
          3,
          2,
          1,
          2,
          4,
          21,
          43,
          45,
          43,
          80,
          89,
          101,
          159,
          138,
          134,
          163,
          147,
          91,
          95,
          55,
          54,
          39,
          14,
          1,
          3,
          1,
          1,
          3,
          3,
          7,
          16,
          21,
          38,
          51,
          82,
          91,
          134,
          136,
          143,
          165,
          137,
          104,
          117,
          110,
          54,
          47,
          33,
          11,
          6,
          2,
          2,
          3,
          5,
          15,
          15,
          12,
          36,
          57,
          58,
          105,
          121,
          132,
          159,
          175,
          181,
          153,
          162,
          127,
          70,
          48,
          23,
          10,
          6,
          1,
          0,
          1,
          1,
          5,
          13,
          15,
          30,
          53,
          67,
          110,
          115,
          146,
          149,
          155,
          109,
          80,
          68,
          44,
          23,
          23,
          13,
          2,
          1,
          0,
          0,
          1,
          3,
          11,
          27,
          34,
          54,
          63,
          84,
          96,
          133,
          143,
          142,
          128,
          107,
          65,
          70,
          39,
          31,
          14,
          10,
          6,
          1,
          0,
          0,
          1,
          2,
          16,
          11,
          25,
          51,
          65,
          79,
          112,
          110,
          112,
          146,
          149,
          112,
          105,
          87,
          48,
          42,
          34,
          14,
          7,
          4,
          0,
          1,
          0,
          2,
          10,
          26,
          36,
          64,
          73,
          94,
          96,
          98,
          101,
          109,
          105,
          88,
          82,
          73,
          75,
          73,
          91,
          23,
          14,
          3,
          3,
          0,
          0,
          2,
          10,
          31,
          45,
          60,
          82,
          92,
          149,
          141,
          122,
          218,
          204,
          99,
          73,
          70,
          47,
          51,
          73,
          16,
          3,
          2,
          0,
          0,
          3,
          6,
          8,
          24,
          42,
          61,
          59,
          64,
          104,
          112,
          142,
          194,
          170,
          173,
          132,
          136,
          97,
          58,
          27,
          22,
          14,
          5,
          0,
          1,
          1,
          1,
          5,
          13,
          13,
          42,
          47,
          80,
          139,
          136,
          127,
          181,
          187,
          152,
          148,
          166,
          90,
          63,
          42,
          30,
          10,
          8,
          2,
          1,
          0,
          1,
          5,
          7,
          15,
          32,
          55,
          63,
          93,
          122,
          158,
          148,
          181,
          152,
          93,
          69,
          42,
          30,
          37,
          12,
          5,
          2,
          1,
          1,
          2,
          6,
          10,
          15,
          37,
          51,
          72,
          63,
          95,
          108,
          105,
          135,
          125,
          81,
          78,
          59,
          47,
          36,
          23,
          11,
          6,
          1,
          0,
          1,
          2,
          4,
          20,
          27,
          54,
          63,
          87,
          88,
          116,
          114,
          142,
          139,
          117,
          111,
          95,
          67,
          42,
          46,
          34,
          16,
          7,
          3,
          0,
          0,
          2,
          3,
          14,
          27,
          44,
          67,
          58,
          97,
          101,
          77,
          96,
          107,
          69,
          75,
          82,
          51,
          36,
          73,
          81,
          9,
          10,
          2,
          0,
          1,
          0,
          3,
          14,
          23,
          34,
          54,
          72,
          67,
          95,
          105,
          112,
          143,
          131,
          74,
          82,
          62,
          64,
          34,
          38,
          12,
          14,
          3
         ],
         "yaxis": "y"
        },
        {
         "line": {
          "color": "green"
         },
         "marker": {
          "size": 10
         },
         "mode": "markers",
         "name": "Actual Value",
         "type": "scatter",
         "x": [
          "2023-09-01T05:00:00"
         ],
         "y": [
          3
         ]
        },
        {
         "line": {
          "color": "red"
         },
         "marker": {
          "size": 15,
          "symbol": "x"
         },
         "mode": "markers",
         "name": "Prediction",
         "type": "scatter",
         "x": [
          "2023-09-01T05:00:00"
         ],
         "y": [
          4.5
         ]
        }
       ],
       "layout": {
        "legend": {
         "tracegroupgap": 0
        },
        "template": {
         "data": {
          "bar": [
           {
            "error_x": {
             "color": "#2a3f5f"
            },
            "error_y": {
             "color": "#2a3f5f"
            },
            "marker": {
             "line": {
              "color": "white",
              "width": 0.5
             },
             "pattern": {
              "fillmode": "overlay",
              "size": 10,
              "solidity": 0.2
             }
            },
            "type": "bar"
           }
          ],
          "barpolar": [
           {
            "marker": {
             "line": {
              "color": "white",
              "width": 0.5
             },
             "pattern": {
              "fillmode": "overlay",
              "size": 10,
              "solidity": 0.2
             }
            },
            "type": "barpolar"
           }
          ],
          "carpet": [
           {
            "aaxis": {
             "endlinecolor": "#2a3f5f",
             "gridcolor": "#C8D4E3",
             "linecolor": "#C8D4E3",
             "minorgridcolor": "#C8D4E3",
             "startlinecolor": "#2a3f5f"
            },
            "baxis": {
             "endlinecolor": "#2a3f5f",
             "gridcolor": "#C8D4E3",
             "linecolor": "#C8D4E3",
             "minorgridcolor": "#C8D4E3",
             "startlinecolor": "#2a3f5f"
            },
            "type": "carpet"
           }
          ],
          "choropleth": [
           {
            "colorbar": {
             "outlinewidth": 0,
             "ticks": ""
            },
            "type": "choropleth"
           }
          ],
          "contour": [
           {
            "colorbar": {
             "outlinewidth": 0,
             "ticks": ""
            },
            "colorscale": [
             [
              0,
              "#0d0887"
             ],
             [
              0.1111111111111111,
              "#46039f"
             ],
             [
              0.2222222222222222,
              "#7201a8"
             ],
             [
              0.3333333333333333,
              "#9c179e"
             ],
             [
              0.4444444444444444,
              "#bd3786"
             ],
             [
              0.5555555555555556,
              "#d8576b"
             ],
             [
              0.6666666666666666,
              "#ed7953"
             ],
             [
              0.7777777777777778,
              "#fb9f3a"
             ],
             [
              0.8888888888888888,
              "#fdca26"
             ],
             [
              1,
              "#f0f921"
             ]
            ],
            "type": "contour"
           }
          ],
          "contourcarpet": [
           {
            "colorbar": {
             "outlinewidth": 0,
             "ticks": ""
            },
            "type": "contourcarpet"
           }
          ],
          "heatmap": [
           {
            "colorbar": {
             "outlinewidth": 0,
             "ticks": ""
            },
            "colorscale": [
             [
              0,
              "#0d0887"
             ],
             [
              0.1111111111111111,
              "#46039f"
             ],
             [
              0.2222222222222222,
              "#7201a8"
             ],
             [
              0.3333333333333333,
              "#9c179e"
             ],
             [
              0.4444444444444444,
              "#bd3786"
             ],
             [
              0.5555555555555556,
              "#d8576b"
             ],
             [
              0.6666666666666666,
              "#ed7953"
             ],
             [
              0.7777777777777778,
              "#fb9f3a"
             ],
             [
              0.8888888888888888,
              "#fdca26"
             ],
             [
              1,
              "#f0f921"
             ]
            ],
            "type": "heatmap"
           }
          ],
          "heatmapgl": [
           {
            "colorbar": {
             "outlinewidth": 0,
             "ticks": ""
            },
            "colorscale": [
             [
              0,
              "#0d0887"
             ],
             [
              0.1111111111111111,
              "#46039f"
             ],
             [
              0.2222222222222222,
              "#7201a8"
             ],
             [
              0.3333333333333333,
              "#9c179e"
             ],
             [
              0.4444444444444444,
              "#bd3786"
             ],
             [
              0.5555555555555556,
              "#d8576b"
             ],
             [
              0.6666666666666666,
              "#ed7953"
             ],
             [
              0.7777777777777778,
              "#fb9f3a"
             ],
             [
              0.8888888888888888,
              "#fdca26"
             ],
             [
              1,
              "#f0f921"
             ]
            ],
            "type": "heatmapgl"
           }
          ],
          "histogram": [
           {
            "marker": {
             "pattern": {
              "fillmode": "overlay",
              "size": 10,
              "solidity": 0.2
             }
            },
            "type": "histogram"
           }
          ],
          "histogram2d": [
           {
            "colorbar": {
             "outlinewidth": 0,
             "ticks": ""
            },
            "colorscale": [
             [
              0,
              "#0d0887"
             ],
             [
              0.1111111111111111,
              "#46039f"
             ],
             [
              0.2222222222222222,
              "#7201a8"
             ],
             [
              0.3333333333333333,
              "#9c179e"
             ],
             [
              0.4444444444444444,
              "#bd3786"
             ],
             [
              0.5555555555555556,
              "#d8576b"
             ],
             [
              0.6666666666666666,
              "#ed7953"
             ],
             [
              0.7777777777777778,
              "#fb9f3a"
             ],
             [
              0.8888888888888888,
              "#fdca26"
             ],
             [
              1,
              "#f0f921"
             ]
            ],
            "type": "histogram2d"
           }
          ],
          "histogram2dcontour": [
           {
            "colorbar": {
             "outlinewidth": 0,
             "ticks": ""
            },
            "colorscale": [
             [
              0,
              "#0d0887"
             ],
             [
              0.1111111111111111,
              "#46039f"
             ],
             [
              0.2222222222222222,
              "#7201a8"
             ],
             [
              0.3333333333333333,
              "#9c179e"
             ],
             [
              0.4444444444444444,
              "#bd3786"
             ],
             [
              0.5555555555555556,
              "#d8576b"
             ],
             [
              0.6666666666666666,
              "#ed7953"
             ],
             [
              0.7777777777777778,
              "#fb9f3a"
             ],
             [
              0.8888888888888888,
              "#fdca26"
             ],
             [
              1,
              "#f0f921"
             ]
            ],
            "type": "histogram2dcontour"
           }
          ],
          "mesh3d": [
           {
            "colorbar": {
             "outlinewidth": 0,
             "ticks": ""
            },
            "type": "mesh3d"
           }
          ],
          "parcoords": [
           {
            "line": {
             "colorbar": {
              "outlinewidth": 0,
              "ticks": ""
             }
            },
            "type": "parcoords"
           }
          ],
          "pie": [
           {
            "automargin": true,
            "type": "pie"
           }
          ],
          "scatter": [
           {
            "fillpattern": {
             "fillmode": "overlay",
             "size": 10,
             "solidity": 0.2
            },
            "type": "scatter"
           }
          ],
          "scatter3d": [
           {
            "line": {
             "colorbar": {
              "outlinewidth": 0,
              "ticks": ""
             }
            },
            "marker": {
             "colorbar": {
              "outlinewidth": 0,
              "ticks": ""
             }
            },
            "type": "scatter3d"
           }
          ],
          "scattercarpet": [
           {
            "marker": {
             "colorbar": {
              "outlinewidth": 0,
              "ticks": ""
             }
            },
            "type": "scattercarpet"
           }
          ],
          "scattergeo": [
           {
            "marker": {
             "colorbar": {
              "outlinewidth": 0,
              "ticks": ""
             }
            },
            "type": "scattergeo"
           }
          ],
          "scattergl": [
           {
            "marker": {
             "colorbar": {
              "outlinewidth": 0,
              "ticks": ""
             }
            },
            "type": "scattergl"
           }
          ],
          "scattermapbox": [
           {
            "marker": {
             "colorbar": {
              "outlinewidth": 0,
              "ticks": ""
             }
            },
            "type": "scattermapbox"
           }
          ],
          "scatterpolar": [
           {
            "marker": {
             "colorbar": {
              "outlinewidth": 0,
              "ticks": ""
             }
            },
            "type": "scatterpolar"
           }
          ],
          "scatterpolargl": [
           {
            "marker": {
             "colorbar": {
              "outlinewidth": 0,
              "ticks": ""
             }
            },
            "type": "scatterpolargl"
           }
          ],
          "scatterternary": [
           {
            "marker": {
             "colorbar": {
              "outlinewidth": 0,
              "ticks": ""
             }
            },
            "type": "scatterternary"
           }
          ],
          "surface": [
           {
            "colorbar": {
             "outlinewidth": 0,
             "ticks": ""
            },
            "colorscale": [
             [
              0,
              "#0d0887"
             ],
             [
              0.1111111111111111,
              "#46039f"
             ],
             [
              0.2222222222222222,
              "#7201a8"
             ],
             [
              0.3333333333333333,
              "#9c179e"
             ],
             [
              0.4444444444444444,
              "#bd3786"
             ],
             [
              0.5555555555555556,
              "#d8576b"
             ],
             [
              0.6666666666666666,
              "#ed7953"
             ],
             [
              0.7777777777777778,
              "#fb9f3a"
             ],
             [
              0.8888888888888888,
              "#fdca26"
             ],
             [
              1,
              "#f0f921"
             ]
            ],
            "type": "surface"
           }
          ],
          "table": [
           {
            "cells": {
             "fill": {
              "color": "#EBF0F8"
             },
             "line": {
              "color": "white"
             }
            },
            "header": {
             "fill": {
              "color": "#C8D4E3"
             },
             "line": {
              "color": "white"
             }
            },
            "type": "table"
           }
          ]
         },
         "layout": {
          "annotationdefaults": {
           "arrowcolor": "#2a3f5f",
           "arrowhead": 0,
           "arrowwidth": 1
          },
          "autotypenumbers": "strict",
          "coloraxis": {
           "colorbar": {
            "outlinewidth": 0,
            "ticks": ""
           }
          },
          "colorscale": {
           "diverging": [
            [
             0,
             "#8e0152"
            ],
            [
             0.1,
             "#c51b7d"
            ],
            [
             0.2,
             "#de77ae"
            ],
            [
             0.3,
             "#f1b6da"
            ],
            [
             0.4,
             "#fde0ef"
            ],
            [
             0.5,
             "#f7f7f7"
            ],
            [
             0.6,
             "#e6f5d0"
            ],
            [
             0.7,
             "#b8e186"
            ],
            [
             0.8,
             "#7fbc41"
            ],
            [
             0.9,
             "#4d9221"
            ],
            [
             1,
             "#276419"
            ]
           ],
           "sequential": [
            [
             0,
             "#0d0887"
            ],
            [
             0.1111111111111111,
             "#46039f"
            ],
            [
             0.2222222222222222,
             "#7201a8"
            ],
            [
             0.3333333333333333,
             "#9c179e"
            ],
            [
             0.4444444444444444,
             "#bd3786"
            ],
            [
             0.5555555555555556,
             "#d8576b"
            ],
            [
             0.6666666666666666,
             "#ed7953"
            ],
            [
             0.7777777777777778,
             "#fb9f3a"
            ],
            [
             0.8888888888888888,
             "#fdca26"
            ],
            [
             1,
             "#f0f921"
            ]
           ],
           "sequentialminus": [
            [
             0,
             "#0d0887"
            ],
            [
             0.1111111111111111,
             "#46039f"
            ],
            [
             0.2222222222222222,
             "#7201a8"
            ],
            [
             0.3333333333333333,
             "#9c179e"
            ],
            [
             0.4444444444444444,
             "#bd3786"
            ],
            [
             0.5555555555555556,
             "#d8576b"
            ],
            [
             0.6666666666666666,
             "#ed7953"
            ],
            [
             0.7777777777777778,
             "#fb9f3a"
            ],
            [
             0.8888888888888888,
             "#fdca26"
            ],
            [
             1,
             "#f0f921"
            ]
           ]
          },
          "colorway": [
           "#636efa",
           "#EF553B",
           "#00cc96",
           "#ab63fa",
           "#FFA15A",
           "#19d3f3",
           "#FF6692",
           "#B6E880",
           "#FF97FF",
           "#FECB52"
          ],
          "font": {
           "color": "#2a3f5f"
          },
          "geo": {
           "bgcolor": "white",
           "lakecolor": "white",
           "landcolor": "white",
           "showlakes": true,
           "showland": true,
           "subunitcolor": "#C8D4E3"
          },
          "hoverlabel": {
           "align": "left"
          },
          "hovermode": "closest",
          "mapbox": {
           "style": "light"
          },
          "paper_bgcolor": "white",
          "plot_bgcolor": "white",
          "polar": {
           "angularaxis": {
            "gridcolor": "#EBF0F8",
            "linecolor": "#EBF0F8",
            "ticks": ""
           },
           "bgcolor": "white",
           "radialaxis": {
            "gridcolor": "#EBF0F8",
            "linecolor": "#EBF0F8",
            "ticks": ""
           }
          },
          "scene": {
           "xaxis": {
            "backgroundcolor": "white",
            "gridcolor": "#DFE8F3",
            "gridwidth": 2,
            "linecolor": "#EBF0F8",
            "showbackground": true,
            "ticks": "",
            "zerolinecolor": "#EBF0F8"
           },
           "yaxis": {
            "backgroundcolor": "white",
            "gridcolor": "#DFE8F3",
            "gridwidth": 2,
            "linecolor": "#EBF0F8",
            "showbackground": true,
            "ticks": "",
            "zerolinecolor": "#EBF0F8"
           },
           "zaxis": {
            "backgroundcolor": "white",
            "gridcolor": "#DFE8F3",
            "gridwidth": 2,
            "linecolor": "#EBF0F8",
            "showbackground": true,
            "ticks": "",
            "zerolinecolor": "#EBF0F8"
           }
          },
          "shapedefaults": {
           "line": {
            "color": "#2a3f5f"
           }
          },
          "ternary": {
           "aaxis": {
            "gridcolor": "#DFE8F3",
            "linecolor": "#A2B1C6",
            "ticks": ""
           },
           "baxis": {
            "gridcolor": "#DFE8F3",
            "linecolor": "#A2B1C6",
            "ticks": ""
           },
           "bgcolor": "white",
           "caxis": {
            "gridcolor": "#DFE8F3",
            "linecolor": "#A2B1C6",
            "ticks": ""
           }
          },
          "title": {
           "x": 0.05
          },
          "xaxis": {
           "automargin": true,
           "gridcolor": "#EBF0F8",
           "linecolor": "#EBF0F8",
           "ticks": "",
           "title": {
            "standoff": 15
           },
           "zerolinecolor": "#EBF0F8",
           "zerolinewidth": 2
          },
          "yaxis": {
           "automargin": true,
           "gridcolor": "#EBF0F8",
           "linecolor": "#EBF0F8",
           "ticks": "",
           "title": {
            "standoff": 15
           },
           "zerolinecolor": "#EBF0F8",
           "zerolinewidth": 2
          }
         }
        },
        "title": {
         "text": "Pickup Hour: 2023-09-01 05:00:00, Location ID: 43"
        },
        "xaxis": {
         "anchor": "y",
         "domain": [
          0,
          1
         ],
         "title": {
          "text": "Time"
         }
        },
        "yaxis": {
         "anchor": "x",
         "domain": [
          0,
          1
         ],
         "title": {
          "text": "Ride Counts"
         }
        }
       }
      }
     },
     "metadata": {},
     "output_type": "display_data"
    }
   ],
   "source": [
    "from src.plot_utils import plot_aggregated_time_series\n",
    "\n",
    "plot_aggregated_time_series(X_test, y_test, 5002, predictions)"
   ]
  }
 ],
 "metadata": {
  "kernelspec": {
   "display_name": "Python (py311_env)",
   "language": "python",
   "name": "py311_env"
  },
  "language_info": {
   "codemirror_mode": {
    "name": "ipython",
    "version": 3
   },
   "file_extension": ".py",
   "mimetype": "text/x-python",
   "name": "python",
   "nbconvert_exporter": "python",
   "pygments_lexer": "ipython3",
   "version": "3.12.7"
  }
 },
 "nbformat": 4,
 "nbformat_minor": 5
}
